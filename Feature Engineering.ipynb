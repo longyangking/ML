{
 "cells": [
  {
   "cell_type": "markdown",
   "metadata": {},
   "source": [
    "# Feature Engineering"
   ]
  },
  {
   "cell_type": "markdown",
   "metadata": {},
   "source": [
    "## Feature Engieering\n",
    "Feature engineering is the process of using domain knowledge of the data to create features that make machine learning algorithms work. Feature engineering is fundamental to the application of the machine learning, and is both difficult and expensive. The need for manual feature engineering can be obviated by automated feature learning.\n",
    "\n",
    "__Feature Engineering__ is an informal topic, but it is considered essential in applied machine learning.\n",
    "> Coming up with features is difficult, time-consuming, requires expert knowledge. \"Applied machine learning\" is basically feature engineering. -- __Andrew NG__\n",
    "\n",
    "> When working on a machine learning problem, feature engineering is manually designing what the input x's should be. -- __Shayne Miel__"
   ]
  },
  {
   "cell_type": "markdown",
   "metadata": {},
   "source": [
    "### Features\n",
    "A feature is a piece of information that might be useful for prediction. Any attribute could be a feature, as long as it is useful to the model.\n",
    "\n",
    "The purpose of a feature, other than being an attribute, would be much easier to understand in the context of a problem. A feature is a characteristic that might help when solving the problem."
   ]
  },
  {
   "cell_type": "markdown",
   "metadata": {},
   "source": [
    "### The process of feature engineering\n",
    "1. Brainstorming features\n",
    "+ Deciding what features to create\n",
    "+ Creating features\n",
    "+ Checking how the features work with your model\n",
    "+ Improving your features if needed\n",
    "+ Go back to brainstorming/creating more features until the work is done"
   ]
  },
  {
   "cell_type": "markdown",
   "metadata": {},
   "source": [
    "### Feature relevance\n",
    "Depending on a feature it could be strongly relevant(has information that doesn't exist in any other feature), relevant, weakly relevant(some information that other features include) or irrelevant. __It is important to create a lot of features. Even if some of them are irrelevant, you can't afford missing the rest.__ Afterwards, feature selection can be used in order to prevent overfitting."
   ]
  },
  {
   "cell_type": "markdown",
   "metadata": {},
   "source": [
    "### Feature explosion\n",
    "__Feature explosion__ can be caused by feature combination or feature templates, both leading to a quick growth in the total number of features.\n",
    "+ Feature templates - implementing features templates instead of coding new features\n",
    "+ Feature combinations - combinations that cannot be represented by the linear system\n",
    "\n",
    "There are a few solutions to help stop features explosion such as regularization, kernel method, feature selection."
   ]
  },
  {
   "cell_type": "markdown",
   "metadata": {},
   "source": [
    "# Feature Learning\n",
    "In machine learning, feature learning or representation learning is a set of techniques that learn a feature: a transformation of raw data input to a representation that can be effectively exploited in machine learning tasks. This obviates manual feature engineering, which is otherwise necessary, and allows a machine to both learn at a specific task(_using_ the features) and learn the features themselves: to learn how to learn.\n",
    "\n",
    "Feature learning is motivated by the fact that machine learning tasks such as classification often requires input that is mathematically and computationally convenient to process. However, real-world data such as images, video, and sensor measurement is usually complex, redundant, and highly variable. Thus, it is necessary to discover useful features or representations from raw data. Traditional hand-crafted features often require expensive human labor and often rely on expert knowledge. Also, they normally do not generalize well. This motivates the design of efficient feature learning techniques, to automate and generalize this.\n",
    "\n",
    "Feature learning can be divided into two categories: supervised and unsupervised feature learning, analogous to these categories in machine learning generally.\n",
    "+ In supervised feature learning, features are learned with labeled input data. \n",
    "+ In unsupervised feature learning, features are learned with unlabeled input data. "
   ]
  },
  {
   "cell_type": "markdown",
   "metadata": {},
   "source": [
    "# Feature Selection\n",
    "In machine learning and statistics, feature selection, also known as variable selection, attribute selection or variable subset selection, is the process of selecting a subset of relevant features(variables, predictors) for use in model construction. Feature selection techniques are used for three reasons:\n",
    "+ Simplification of models to make them easier to interpret by researchers/users\n",
    "+ Shorter training times\n",
    "+ Enhanced generalization by reducing overfitting(formally, reduction of variance)\n",
    "\n",
    "The central premise when using a feature selection techniques is that the data contains many features that are either _redundant_ or _irrelevant_, and can thus be removed without incurring much loss of information. _Redundant_ or _irrelevant_ features are two distinct notions, since one relevant feature may be redundant in the presence of another relevant feature with which it is strongly correlated.\n",
    "\n",
    "Feature selection techniques should be distinguished from feature extraction. Feature extraction creates new features from functions of the original features, whereas feature selection returns a subset of the features. Feature selection techniques are often used in domains where there are many features and comparatively few samples(or data points). Archetypal cases for the application of feature selection include the analysis of written texts and DNA microarray data, where there are many thousands of features, and a few tens to hundreds of samples."
   ]
  },
  {
   "cell_type": "markdown",
   "metadata": {
    "collapsed": true
   },
   "source": [
    "## Algorithms\n",
    "+ Floating Sequential Selection Method (FSSM)\n",
    "+ Decision Tree Method (DTM)\n",
    "+ ..."
   ]
  },
  {
   "cell_type": "code",
   "execution_count": null,
   "metadata": {
    "collapsed": true
   },
   "outputs": [],
   "source": []
  }
 ],
 "metadata": {
  "kernelspec": {
   "display_name": "Python 2",
   "language": "python",
   "name": "python2"
  },
  "language_info": {
   "codemirror_mode": {
    "name": "ipython",
    "version": 2
   },
   "file_extension": ".py",
   "mimetype": "text/x-python",
   "name": "python",
   "nbconvert_exporter": "python",
   "pygments_lexer": "ipython2",
   "version": "2.7.10"
  }
 },
 "nbformat": 4,
 "nbformat_minor": 0
}
