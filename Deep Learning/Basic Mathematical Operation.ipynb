{
 "cells": [
  {
   "cell_type": "markdown",
   "metadata": {},
   "source": [
    "# Basic Mathematical Operation"
   ]
  },
  {
   "cell_type": "markdown",
   "metadata": {},
   "source": [
    "## Multiplication"
   ]
  },
  {
   "cell_type": "code",
   "execution_count": 27,
   "metadata": {
    "collapsed": false
   },
   "outputs": [],
   "source": [
    "from keras.models import Sequential\n",
    "from keras.layers import Dense\n",
    "\n",
    "import numpy as np\n",
    "import math\n",
    "%matplotlib inline\n",
    "import matplotlib.pyplot as plt\n",
    "\n",
    "model = Sequential()\n",
    "model.add(Dense(10, input_dim=2, init='uniform',activation='linear'))\n",
    "model.add(Dense(10, activation='relu'))\n",
    "model.add(Dense(5, activation='linear'))\n",
    "model.add(Dense(1, activation='linear'))\n",
    "model.compile(loss='mean_squared_error',optimizer='rmsprop',metrics=['accuracy'])\n",
    "\n",
    "x_train = 2*np.random.random((2000,2))-1\n",
    "#y_train = x_train[:,0:4].dot(x_train[:,4:8])\n",
    "y_train = np.array([x_train[i,0]*x_train[i,1] for i in range(len(x_train))])\n",
    "\n",
    "hist = model.fit(x_train,y_train, nb_epoch=100, batch_size=20,verbose=0,shuffle=True, validation_split=0.2)"
   ]
  },
  {
   "cell_type": "code",
   "execution_count": 28,
   "metadata": {
    "collapsed": false
   },
   "outputs": [
    {
     "data": {
      "image/png": "[encoded data removed]",
      "text/plain": [
       "<matplotlib.figure.Figure at 0xec96a90>"
      ]
     },
     "metadata": {},
     "output_type": "display_data"
    }
   ],
   "source": [
    "x_val = 2*np.random.random((100,2))-1\n",
    "y_val = np.array([x_val[i,0]*x_val[i,1] for i in range(len(x_val))])\n",
    "\n",
    "out = model.predict(x_val)\n",
    "\n",
    "errors= np.mean(np.abs(y_val-out),axis=1)\n",
    "\n",
    "#plt.scatter(range(len(errors)),errors,c='r',label='Accurate')\n",
    "#plt.legend(loc=1)\n",
    "plt.hist(errors)\n",
    "plt.show()  "
   ]
  },
  {
   "cell_type": "code",
   "execution_count": null,
   "metadata": {
    "collapsed": true
   },
   "outputs": [],
   "source": []
  }
 ],
 "metadata": {
  "kernelspec": {
   "display_name": "Python [Root]",
   "language": "python",
   "name": "Python [Root]"
  },
  "language_info": {
   "codemirror_mode": {
    "name": "ipython",
    "version": 2
   },
   "file_extension": ".py",
   "mimetype": "text/x-python",
   "name": "python",
   "nbconvert_exporter": "python",
   "pygments_lexer": "ipython2",
   "version": "2.7.12"
  }
 },
 "nbformat": 4,
 "nbformat_minor": 0
}
