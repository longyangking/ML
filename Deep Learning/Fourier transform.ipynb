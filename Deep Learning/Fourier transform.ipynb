{
 "cells": [
  {
   "cell_type": "markdown",
   "metadata": {},
   "source": [
    "# Fourier transform"
   ]
  },
  {
   "cell_type": "markdown",
   "metadata": {
    "collapsed": true
   },
   "source": [
    "## Basic definition\n",
    "$$ \\hat{F}(f(t)) = \\hat{f}(\\omega) $$\n",
    "$$ \\hat{f}(\\omega) = \\int^{\\infty}_{-\\infty} f(t) e^{i \\omega t} d\\omega $$\n",
    "\n",
    "$$ \\hat{F}\\left(a f_1(t) + b f_2(t) + c f_3(t) = 0\\right) = a \\hat{f}(\\omega) + b \\hat{f}(\\omega) + c \\hat{f}(\\omega) = 0$$"
   ]
  },
  {
   "cell_type": "code",
   "execution_count": null,
   "metadata": {
    "collapsed": true
   },
   "outputs": [],
   "source": []
  }
 ],
 "metadata": {
  "kernelspec": {
   "display_name": "Python [default]",
   "language": "python",
   "name": "python2"
  },
  "language_info": {
   "codemirror_mode": {
    "name": "ipython",
    "version": 2
   },
   "file_extension": ".py",
   "mimetype": "text/x-python",
   "name": "python",
   "nbconvert_exporter": "python",
   "pygments_lexer": "ipython2",
   "version": "2.7.12"
  }
 },
 "nbformat": 4,
 "nbformat_minor": 1
}
