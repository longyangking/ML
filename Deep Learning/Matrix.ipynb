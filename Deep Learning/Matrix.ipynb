{
 "cells": [
  {
   "cell_type": "markdown",
   "metadata": {},
   "source": [
    "# Matrix"
   ]
  },
  {
   "cell_type": "code",
   "execution_count": 12,
   "metadata": {
    "collapsed": false
   },
   "outputs": [],
   "source": [
    "import numpy as np\n",
    "a = np.matrix([[1,2],[3,4]])\n",
    "b = 2*np.eye(2)"
   ]
  },
  {
   "cell_type": "code",
   "execution_count": 14,
   "metadata": {
    "collapsed": false
   },
   "outputs": [
    {
     "data": {
      "text/plain": [
       "matrix([[ 3.,  2.],\n",
       "        [ 3.,  6.]])"
      ]
     },
     "execution_count": 14,
     "metadata": {},
     "output_type": "execute_result"
    }
   ],
   "source": [
    "a+b"
   ]
  },
  {
   "cell_type": "markdown",
   "metadata": {},
   "source": [
    "## Addition\n",
    "+ Transform Matrix into a vector, then train ANN with supervised learning"
   ]
  },
  {
   "cell_type": "code",
   "execution_count": 23,
   "metadata": {
    "collapsed": false
   },
   "outputs": [],
   "source": [
    "from keras.models import Sequential\n",
    "from keras.layers import Dense\n",
    "\n",
    "import numpy as np\n",
    "import math\n",
    "%matplotlib inline\n",
    "import matplotlib.pyplot as plt\n",
    "\n",
    "model = Sequential()\n",
    "model.add(Dense(8, input_dim=8, init='uniform',activation='linear'))\n",
    "#model.add(Dense(4, activation='linear'))\n",
    "model.add(Dense(4, activation='linear'))\n",
    "model.compile(loss='mean_squared_error',optimizer='rmsprop',metrics=['accuracy'])\n",
    "\n",
    "x_train = 100*(2*np.random.random((5000,8))-1)\n",
    "y_train = x_train[:,0:4]+x_train[:,4:8]\n",
    "\n",
    "hist = model.fit(x_train,y_train, nb_epoch=100, batch_size=30,verbose=0,shuffle=True, validation_split=0.2)"
   ]
  },
  {
   "cell_type": "code",
   "execution_count": 24,
   "metadata": {
    "collapsed": false
   },
   "outputs": [
    {
     "data": {
      "image/png": "[encoded data removed]",
      "text/plain": [
       "<matplotlib.figure.Figure at 0x2a6d8278>"
      ]
     },
     "metadata": {},
     "output_type": "display_data"
    }
   ],
   "source": [
    "x_val = 100*(2*np.random.random((100,8))-1)\n",
    "y_val = x_val[:,0:4]+x_val[:,4:8]\n",
    "\n",
    "out = model.predict(x_val)\n",
    "\n",
    "errors= np.mean(np.abs(y_val-out),axis=1)\n",
    "\n",
    "#plt.scatter(range(len(errors)),errors,c='r',label='Accurate')\n",
    "#plt.legend(loc=1)\n",
    "plt.hist(errors)\n",
    "plt.show()  "
   ]
  },
  {
   "cell_type": "markdown",
   "metadata": {},
   "source": [
    "## Subtraction"
   ]
  },
  {
   "cell_type": "code",
   "execution_count": 25,
   "metadata": {
    "collapsed": true
   },
   "outputs": [],
   "source": [
    "from keras.models import Sequential\n",
    "from keras.layers import Dense\n",
    "\n",
    "import numpy as np\n",
    "import math\n",
    "%matplotlib inline\n",
    "import matplotlib.pyplot as plt\n",
    "\n",
    "model = Sequential()\n",
    "model.add(Dense(8, input_dim=8, init='uniform',activation='linear'))\n",
    "#model.add(Dense(4, activation='linear'))\n",
    "model.add(Dense(4, activation='linear'))\n",
    "model.compile(loss='mean_squared_error',optimizer='rmsprop',metrics=['accuracy'])\n",
    "\n",
    "x_train = 100*(2*np.random.random((5000,8))-1)\n",
    "y_train = x_train[:,0:4]-x_train[:,4:8]\n",
    "\n",
    "hist = model.fit(x_train,y_train, nb_epoch=100, batch_size=30,verbose=0,shuffle=True, validation_split=0.2)"
   ]
  },
  {
   "cell_type": "code",
   "execution_count": 26,
   "metadata": {
    "collapsed": false
   },
   "outputs": [
    {
     "data": {
      "image/png": "[encoded data removed]",
      "text/plain": [
       "<matplotlib.figure.Figure at 0x29e368d0>"
      ]
     },
     "metadata": {},
     "output_type": "display_data"
    }
   ],
   "source": [
    "x_val = 100*(2*np.random.random((100,8))-1)\n",
    "y_val = x_val[:,0:4]-x_val[:,4:8]\n",
    "\n",
    "out = model.predict(x_val)\n",
    "\n",
    "errors= np.mean(np.abs(y_val-out),axis=1)\n",
    "\n",
    "#plt.scatter(range(len(errors)),errors,c='r',label='Accurate')\n",
    "#plt.legend(loc=1)\n",
    "plt.hist(errors)\n",
    "plt.show()  "
   ]
  },
  {
   "cell_type": "markdown",
   "metadata": {},
   "source": [
    "# Multiplication"
   ]
  },
  {
   "cell_type": "code",
   "execution_count": 55,
   "metadata": {
    "collapsed": false
   },
   "outputs": [],
   "source": [
    "from keras.models import Sequential\n",
    "from keras.layers import Dense\n",
    "\n",
    "import numpy as np\n",
    "import math\n",
    "%matplotlib inline\n",
    "import matplotlib.pyplot as plt\n",
    "\n",
    "model = Sequential()\n",
    "model.add(Dense(16, input_dim=8, init='uniform',activation='linear'))\n",
    "model.add(Dense(8, activation='linear'))\n",
    "model.add(Dense(4, activation='linear'))\n",
    "model.compile(loss='mean_squared_error',optimizer='rmsprop',metrics=['accuracy'])\n",
    "\n",
    "x_train = 100*(2*np.random.random((5000,8))-1)\n",
    "#y_train = x_train[:,0:4].dot(x_train[:,4:8])\n",
    "y_train = np.array([x_train[i,0:4].reshape(2,2).dot(x_train[i,4:8].reshape(2,2)).reshape(1,4)[0] for i in range(len(x_train))])\n",
    "\n",
    "hist = model.fit(x_train,y_train, nb_epoch=100, batch_size=30,verbose=0,shuffle=True, validation_split=0.2)"
   ]
  },
  {
   "cell_type": "code",
   "execution_count": 56,
   "metadata": {
    "collapsed": false
   },
   "outputs": [
    {
     "data": {
      "image/png": "[encoded data removed]",
      "text/plain": [
       "<matplotlib.figure.Figure at 0x2a964a20>"
      ]
     },
     "metadata": {},
     "output_type": "display_data"
    }
   ],
   "source": [
    "x_val = 100*(2*np.random.random((100,8))-1)\n",
    "y_val = np.array([x_val[i,0:4].reshape(2,2).dot(x_val[i,4:8].reshape(2,2)).reshape(1,4)[0] for i in range(len(x_val))])\n",
    "\n",
    "out = model.predict(x_val)\n",
    "\n",
    "errors= np.mean(np.abs(y_val-out),axis=1)\n",
    "\n",
    "#plt.scatter(range(len(errors)),errors,c='r',label='Accurate')\n",
    "#plt.legend(loc=1)\n",
    "plt.hist(errors)\n",
    "plt.show()  "
   ]
  },
  {
   "cell_type": "code",
   "execution_count": null,
   "metadata": {
    "collapsed": true
   },
   "outputs": [],
   "source": []
  }
 ],
 "metadata": {
  "anaconda-cloud": {},
  "kernelspec": {
   "display_name": "Python [Root]",
   "language": "python",
   "name": "Python [Root]"
  },
  "language_info": {
   "codemirror_mode": {
    "name": "ipython",
    "version": 2
   },
   "file_extension": ".py",
   "mimetype": "text/x-python",
   "name": "python",
   "nbconvert_exporter": "python",
   "pygments_lexer": "ipython2",
   "version": "2.7.12"
  }
 },
 "nbformat": 4,
 "nbformat_minor": 0
}
