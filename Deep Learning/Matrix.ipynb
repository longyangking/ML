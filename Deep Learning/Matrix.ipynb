{
 "cells": [
  {
   "cell_type": "markdown",
   "metadata": {},
   "source": [
    "# Matrix"
   ]
  },
  {
   "cell_type": "code",
   "execution_count": 12,
   "metadata": {},
   "outputs": [],
   "source": [
    "import numpy as np\n",
    "a = np.matrix([[1,2],[3,4]])\n",
    "b = 2*np.eye(2)"
   ]
  },
  {
   "cell_type": "code",
   "execution_count": 14,
   "metadata": {},
   "outputs": [
    {
     "data": {
      "text/plain": [
       "matrix([[ 3.,  2.],\n",
       "        [ 3.,  6.]])"
      ]
     },
     "execution_count": 14,
     "metadata": {},
     "output_type": "execute_result"
    }
   ],
   "source": [
    "a+b"
   ]
  },
  {
   "cell_type": "markdown",
   "metadata": {},
   "source": [
    "## Addition\n",
    "+ Transform Matrix into a vector, then train ANN with supervised learning"
   ]
  },
  {
   "cell_type": "code",
   "execution_count": 23,
   "metadata": {},
   "outputs": [],
   "source": [
    "from keras.models import Sequential\n",
    "from keras.layers import Dense\n",
    "\n",
    "import numpy as np\n",
    "import math\n",
    "%matplotlib inline\n",
    "import matplotlib.pyplot as plt\n",
    "\n",
    "model = Sequential()\n",
    "model.add(Dense(8, input_dim=8, init='uniform',activation='linear'))\n",
    "#model.add(Dense(4, activation='linear'))\n",
    "model.add(Dense(4, activation='linear'))\n",
    "model.compile(loss='mean_squared_error',optimizer='rmsprop',metrics=['accuracy'])\n",
    "\n",
    "x_train = 100*(2*np.random.random((5000,8))-1)\n",
    "y_train = x_train[:,0:4]+x_train[:,4:8]\n",
    "\n",
    "hist = model.fit(x_train,y_train, nb_epoch=100, batch_size=30,verbose=0,shuffle=True, validation_split=0.2)"
   ]
  },
  {
   "cell_type": "code",
   "execution_count": 24,
   "metadata": {},
   "outputs": [
    {
     "data": {
      "image/png": "[encoded data removed]",
      "text/plain": [
       "<matplotlib.figure.Figure at 0x2a6d8278>"
      ]
     },
     "metadata": {},
     "output_type": "display_data"
    }
   ],
   "source": [
    "x_val = 100*(2*np.random.random((100,8))-1)\n",
    "y_val = x_val[:,0:4]+x_val[:,4:8]\n",
    "\n",
    "out = model.predict(x_val)\n",
    "\n",
    "errors= np.mean(np.abs(y_val-out),axis=1)\n",
    "\n",
    "#plt.scatter(range(len(errors)),errors,c='r',label='Accurate')\n",
    "#plt.legend(loc=1)\n",
    "plt.hist(errors)\n",
    "plt.show()  "
   ]
  },
  {
   "cell_type": "markdown",
   "metadata": {},
   "source": [
    "## Subtraction"
   ]
  },
  {
   "cell_type": "code",
   "execution_count": 25,
   "metadata": {
    "collapsed": true
   },
   "outputs": [],
   "source": [
    "from keras.models import Sequential\n",
    "from keras.layers import Dense\n",
    "\n",
    "import numpy as np\n",
    "import math\n",
    "%matplotlib inline\n",
    "import matplotlib.pyplot as plt\n",
    "\n",
    "model = Sequential()\n",
    "model.add(Dense(8, input_dim=8, init='uniform',activation='linear'))\n",
    "#model.add(Dense(4, activation='linear'))\n",
    "model.add(Dense(4, activation='linear'))\n",
    "model.compile(loss='mean_squared_error',optimizer='rmsprop',metrics=['accuracy'])\n",
    "\n",
    "x_train = 100*(2*np.random.random((5000,8))-1)\n",
    "y_train = x_train[:,0:4]-x_train[:,4:8]\n",
    "\n",
    "hist = model.fit(x_train,y_train, nb_epoch=100, batch_size=30,verbose=0,shuffle=True, validation_split=0.2)"
   ]
  },
  {
   "cell_type": "code",
   "execution_count": 26,
   "metadata": {},
   "outputs": [
    {
     "data": {
      "image/png": "[encoded data removed]",
      "text/plain": [
       "<matplotlib.figure.Figure at 0x29e368d0>"
      ]
     },
     "metadata": {},
     "output_type": "display_data"
    }
   ],
   "source": [
    "x_val = 100*(2*np.random.random((100,8))-1)\n",
    "y_val = x_val[:,0:4]-x_val[:,4:8]\n",
    "\n",
    "out = model.predict(x_val)\n",
    "\n",
    "errors= np.mean(np.abs(y_val-out),axis=1)\n",
    "\n",
    "#plt.scatter(range(len(errors)),errors,c='r',label='Accurate')\n",
    "#plt.legend(loc=1)\n",
    "plt.hist(errors)\n",
    "plt.show()  "
   ]
  },
  {
   "cell_type": "markdown",
   "metadata": {},
   "source": [
    "# Multiplication"
   ]
  },
  {
   "cell_type": "code",
   "execution_count": 55,
   "metadata": {},
   "outputs": [],
   "source": [
    "from keras.models import Sequential\n",
    "from keras.layers import Dense\n",
    "\n",
    "import numpy as np\n",
    "import math\n",
    "%matplotlib inline\n",
    "import matplotlib.pyplot as plt\n",
    "\n",
    "model = Sequential()\n",
    "model.add(Dense(16, input_dim=8, init='uniform',activation='linear'))\n",
    "model.add(Dense(8, activation='linear'))\n",
    "model.add(Dense(4, activation='linear'))\n",
    "model.compile(loss='mean_squared_error',optimizer='rmsprop',metrics=['accuracy'])\n",
    "\n",
    "x_train = 100*(2*np.random.random((5000,8))-1)\n",
    "#y_train = x_train[:,0:4].dot(x_train[:,4:8])\n",
    "y_train = np.array([x_train[i,0:4].reshape(2,2).dot(x_train[i,4:8].reshape(2,2)).reshape(1,4)[0] for i in range(len(x_train))])\n",
    "\n",
    "hist = model.fit(x_train,y_train, nb_epoch=100, batch_size=30,verbose=0,shuffle=True, validation_split=0.2)"
   ]
  },
  {
   "cell_type": "code",
   "execution_count": 56,
   "metadata": {},
   "outputs": [
    {
     "data": {
      "image/png": "[encoded data removed]",
      "text/plain": [
       "<matplotlib.figure.Figure at 0x2a964a20>"
      ]
     },
     "metadata": {},
     "output_type": "display_data"
    }
   ],
   "source": [
    "x_val = 100*(2*np.random.random((100,8))-1)\n",
    "y_val = np.array([x_val[i,0:4].reshape(2,2).dot(x_val[i,4:8].reshape(2,2)).reshape(1,4)[0] for i in range(len(x_val))])\n",
    "\n",
    "out = model.predict(x_val)\n",
    "\n",
    "errors= np.mean(np.abs(y_val-out),axis=1)\n",
    "\n",
    "#plt.scatter(range(len(errors)),errors,c='r',label='Accurate')\n",
    "#plt.legend(loc=1)\n",
    "plt.hist(errors)\n",
    "plt.show()  "
   ]
  },
  {
   "cell_type": "markdown",
   "metadata": {
    "collapsed": true
   },
   "source": [
    "# Eigenvalues"
   ]
  },
  {
   "cell_type": "code",
   "execution_count": 6,
   "metadata": {},
   "outputs": [
    {
     "name": "stdout",
     "output_type": "stream",
     "text": [
      "[[ 0.33419301  0.09317074  0.04877586]\n",
      " [ 0.27404251  0.51549351  0.18365658]\n",
      " [ 0.99676429  0.3342796   0.90095057]]\n"
     ]
    },
    {
     "data": {
      "text/plain": [
       "array([[ 0.33419301,  0.09317074,  0.04877586,  0.27404251,  0.51549351,\n",
       "         0.18365658,  0.99676429,  0.3342796 ,  0.90095057]])"
      ]
     },
     "execution_count": 6,
     "metadata": {},
     "output_type": "execute_result"
    }
   ],
   "source": [
    "import numpy as np\n",
    "a = np.random.random(size=[3,3])\n",
    "np.linalg.eigvals(a)\n",
    "print a\n",
    "np.reshape(a,(1,9))"
   ]
  },
  {
   "cell_type": "code",
   "execution_count": 13,
   "metadata": {},
   "outputs": [
    {
     "name": "stdout",
     "output_type": "stream",
     "text": [
      "Train on 400 samples, validate on 100 samples\n",
      "Epoch 1/100\n",
      "400/400 [==============================] - 0s - loss: 0.6229 - acc: 0.8225 - val_loss: 0.4024 - val_acc: 0.9700\n",
      "Epoch 2/100\n",
      "400/400 [==============================] - 0s - loss: 0.3232 - acc: 0.9225 - val_loss: 0.1907 - val_acc: 0.9700\n",
      "Epoch 3/100\n",
      "400/400 [==============================] - 0s - loss: 0.2041 - acc: 0.9225 - val_loss: 0.1251 - val_acc: 0.9700\n",
      "Epoch 4/100\n",
      "400/400 [==============================] - 0s - loss: 0.1800 - acc: 0.9225 - val_loss: 0.1198 - val_acc: 0.9700\n",
      "Epoch 5/100\n",
      "400/400 [==============================] - 0s - loss: 0.1754 - acc: 0.9225 - val_loss: 0.1090 - val_acc: 0.9700\n",
      "Epoch 6/100\n",
      "400/400 [==============================] - 0s - loss: 0.1722 - acc: 0.9225 - val_loss: 0.1119 - val_acc: 0.9700\n",
      "Epoch 7/100\n",
      "400/400 [==============================] - 0s - loss: 0.1705 - acc: 0.9225 - val_loss: 0.1069 - val_acc: 0.9700\n",
      "Epoch 8/100\n",
      "400/400 [==============================] - 0s - loss: 0.1656 - acc: 0.9225 - val_loss: 0.1101 - val_acc: 0.9700\n",
      "Epoch 9/100\n",
      "400/400 [==============================] - 0s - loss: 0.1639 - acc: 0.9225 - val_loss: 0.1059 - val_acc: 0.9700\n",
      "Epoch 10/100\n",
      "400/400 [==============================] - 0s - loss: 0.1608 - acc: 0.9225 - val_loss: 0.0944 - val_acc: 0.9700\n",
      "Epoch 11/100\n",
      "400/400 [==============================] - 0s - loss: 0.1584 - acc: 0.9225 - val_loss: 0.0933 - val_acc: 0.9700\n",
      "Epoch 12/100\n",
      "400/400 [==============================] - 0s - loss: 0.1566 - acc: 0.9225 - val_loss: 0.0900 - val_acc: 0.9700\n",
      "Epoch 13/100\n",
      "400/400 [==============================] - 0s - loss: 0.1543 - acc: 0.9225 - val_loss: 0.0926 - val_acc: 0.9700\n",
      "Epoch 14/100\n",
      "400/400 [==============================] - 0s - loss: 0.1513 - acc: 0.9225 - val_loss: 0.0890 - val_acc: 0.9700\n",
      "Epoch 15/100\n",
      "400/400 [==============================] - 0s - loss: 0.1496 - acc: 0.9225 - val_loss: 0.0907 - val_acc: 0.9700\n",
      "Epoch 16/100\n",
      "400/400 [==============================] - 0s - loss: 0.1475 - acc: 0.9225 - val_loss: 0.0811 - val_acc: 0.9700\n",
      "Epoch 17/100\n",
      "400/400 [==============================] - 0s - loss: 0.1447 - acc: 0.9225 - val_loss: 0.0799 - val_acc: 0.9700\n",
      "Epoch 18/100\n",
      "400/400 [==============================] - 0s - loss: 0.1430 - acc: 0.9225 - val_loss: 0.0878 - val_acc: 0.9700\n",
      "Epoch 19/100\n",
      "400/400 [==============================] - 0s - loss: 0.1411 - acc: 0.9225 - val_loss: 0.0764 - val_acc: 0.9700\n",
      "Epoch 20/100\n",
      "400/400 [==============================] - 0s - loss: 0.1397 - acc: 0.9225 - val_loss: 0.0860 - val_acc: 0.9700\n",
      "Epoch 21/100\n",
      "400/400 [==============================] - 0s - loss: 0.1385 - acc: 0.9225 - val_loss: 0.0839 - val_acc: 0.9700\n",
      "Epoch 22/100\n",
      "400/400 [==============================] - 0s - loss: 0.1370 - acc: 0.9225 - val_loss: 0.0771 - val_acc: 0.9700\n",
      "Epoch 23/100\n",
      "400/400 [==============================] - 0s - loss: 0.1354 - acc: 0.9225 - val_loss: 0.0774 - val_acc: 0.9700\n",
      "Epoch 24/100\n",
      "400/400 [==============================] - 0s - loss: 0.1340 - acc: 0.9225 - val_loss: 0.0682 - val_acc: 0.9700\n",
      "Epoch 25/100\n",
      "400/400 [==============================] - 0s - loss: 0.1335 - acc: 0.9225 - val_loss: 0.0691 - val_acc: 0.9700\n",
      "Epoch 26/100\n",
      "400/400 [==============================] - 0s - loss: 0.1312 - acc: 0.9225 - val_loss: 0.0662 - val_acc: 0.9700\n",
      "Epoch 27/100\n",
      "400/400 [==============================] - 0s - loss: 0.1308 - acc: 0.9225 - val_loss: 0.0654 - val_acc: 0.9700\n",
      "Epoch 28/100\n",
      "400/400 [==============================] - 0s - loss: 0.1295 - acc: 0.9225 - val_loss: 0.0628 - val_acc: 0.9700\n",
      "Epoch 29/100\n",
      "400/400 [==============================] - 0s - loss: 0.1289 - acc: 0.9225 - val_loss: 0.0767 - val_acc: 0.9700\n",
      "Epoch 30/100\n",
      "400/400 [==============================] - 0s - loss: 0.1287 - acc: 0.9225 - val_loss: 0.0616 - val_acc: 0.9700\n",
      "Epoch 31/100\n",
      "400/400 [==============================] - 0s - loss: 0.1279 - acc: 0.9225 - val_loss: 0.0610 - val_acc: 0.9700\n",
      "Epoch 32/100\n",
      "400/400 [==============================] - 0s - loss: 0.1278 - acc: 0.9225 - val_loss: 0.0621 - val_acc: 0.9700\n",
      "Epoch 33/100\n",
      "400/400 [==============================] - 0s - loss: 0.1276 - acc: 0.9225 - val_loss: 0.0667 - val_acc: 0.9700\n",
      "Epoch 34/100\n",
      "400/400 [==============================] - 0s - loss: 0.1266 - acc: 0.9225 - val_loss: 0.0675 - val_acc: 0.9700\n",
      "Epoch 35/100\n",
      "400/400 [==============================] - 0s - loss: 0.1272 - acc: 0.9225 - val_loss: 0.0630 - val_acc: 0.9700\n",
      "Epoch 36/100\n",
      "400/400 [==============================] - 0s - loss: 0.1271 - acc: 0.9225 - val_loss: 0.0665 - val_acc: 0.9700\n",
      "Epoch 37/100\n",
      "400/400 [==============================] - 0s - loss: 0.1255 - acc: 0.9225 - val_loss: 0.0767 - val_acc: 0.9700\n",
      "Epoch 38/100\n",
      "400/400 [==============================] - 0s - loss: 0.1270 - acc: 0.9225 - val_loss: 0.0606 - val_acc: 0.9700\n",
      "Epoch 39/100\n",
      "400/400 [==============================] - 0s - loss: 0.1267 - acc: 0.9225 - val_loss: 0.0600 - val_acc: 0.9700\n",
      "Epoch 40/100\n",
      "400/400 [==============================] - 0s - loss: 0.1261 - acc: 0.9225 - val_loss: 0.0601 - val_acc: 0.9700\n",
      "Epoch 41/100\n",
      "400/400 [==============================] - 0s - loss: 0.1264 - acc: 0.9225 - val_loss: 0.0621 - val_acc: 0.9700\n",
      "Epoch 42/100\n",
      "400/400 [==============================] - 0s - loss: 0.1261 - acc: 0.9225 - val_loss: 0.0606 - val_acc: 0.9700\n",
      "Epoch 43/100\n",
      "400/400 [==============================] - 0s - loss: 0.1256 - acc: 0.9225 - val_loss: 0.0612 - val_acc: 0.9700\n",
      "Epoch 44/100\n",
      "400/400 [==============================] - 0s - loss: 0.1259 - acc: 0.9225 - val_loss: 0.0653 - val_acc: 0.9700\n",
      "Epoch 45/100\n",
      "400/400 [==============================] - 0s - loss: 0.1257 - acc: 0.9225 - val_loss: 0.0606 - val_acc: 0.9700\n",
      "Epoch 46/100\n",
      "400/400 [==============================] - 0s - loss: 0.1259 - acc: 0.9225 - val_loss: 0.0592 - val_acc: 0.9700\n",
      "Epoch 47/100\n",
      "400/400 [==============================] - 0s - loss: 0.1252 - acc: 0.9225 - val_loss: 0.0663 - val_acc: 0.9700\n",
      "Epoch 48/100\n",
      "400/400 [==============================] - 0s - loss: 0.1252 - acc: 0.9225 - val_loss: 0.0656 - val_acc: 0.9700\n",
      "Epoch 49/100\n",
      "400/400 [==============================] - 0s - loss: 0.1255 - acc: 0.9225 - val_loss: 0.0587 - val_acc: 0.9700\n",
      "Epoch 50/100\n",
      "400/400 [==============================] - 0s - loss: 0.1259 - acc: 0.9225 - val_loss: 0.0588 - val_acc: 0.9700\n",
      "Epoch 51/100\n",
      "400/400 [==============================] - 0s - loss: 0.1257 - acc: 0.9225 - val_loss: 0.0600 - val_acc: 0.9700\n",
      "Epoch 52/100\n",
      "400/400 [==============================] - 0s - loss: 0.1254 - acc: 0.9225 - val_loss: 0.0626 - val_acc: 0.9700\n",
      "Epoch 53/100\n",
      "400/400 [==============================] - 0s - loss: 0.1250 - acc: 0.9225 - val_loss: 0.0657 - val_acc: 0.9700\n",
      "Epoch 54/100\n",
      "400/400 [==============================] - 0s - loss: 0.1257 - acc: 0.9225 - val_loss: 0.0629 - val_acc: 0.9700\n",
      "Epoch 55/100\n",
      "400/400 [==============================] - 0s - loss: 0.1256 - acc: 0.9225 - val_loss: 0.0600 - val_acc: 0.9700\n",
      "Epoch 56/100\n",
      "400/400 [==============================] - 0s - loss: 0.1252 - acc: 0.9225 - val_loss: 0.0609 - val_acc: 0.9700\n",
      "Epoch 57/100\n",
      "400/400 [==============================] - 0s - loss: 0.1261 - acc: 0.9225 - val_loss: 0.0628 - val_acc: 0.9700\n",
      "Epoch 58/100\n",
      "400/400 [==============================] - 0s - loss: 0.1245 - acc: 0.9225 - val_loss: 0.0594 - val_acc: 0.9700\n",
      "Epoch 59/100\n",
      "400/400 [==============================] - 0s - loss: 0.1250 - acc: 0.9225 - val_loss: 0.0600 - val_acc: 0.9700\n",
      "Epoch 60/100\n",
      "400/400 [==============================] - 0s - loss: 0.1248 - acc: 0.9225 - val_loss: 0.0665 - val_acc: 0.9700\n",
      "Epoch 61/100\n",
      "400/400 [==============================] - 0s - loss: 0.1251 - acc: 0.9225 - val_loss: 0.0614 - val_acc: 0.9700\n",
      "Epoch 62/100\n",
      "400/400 [==============================] - 0s - loss: 0.1253 - acc: 0.9225 - val_loss: 0.0852 - val_acc: 0.9700\n",
      "Epoch 63/100\n",
      "400/400 [==============================] - 0s - loss: 0.1259 - acc: 0.9225 - val_loss: 0.0599 - val_acc: 0.9700\n",
      "Epoch 64/100\n",
      "400/400 [==============================] - 0s - loss: 0.1249 - acc: 0.9225 - val_loss: 0.0698 - val_acc: 0.9700\n",
      "Epoch 65/100\n",
      "400/400 [==============================] - 0s - loss: 0.1238 - acc: 0.9225 - val_loss: 0.0769 - val_acc: 0.9700\n",
      "Epoch 66/100\n",
      "400/400 [==============================] - 0s - loss: 0.1254 - acc: 0.9225 - val_loss: 0.0713 - val_acc: 0.9700\n",
      "Epoch 67/100\n",
      "400/400 [==============================] - 0s - loss: 0.1251 - acc: 0.9225 - val_loss: 0.0683 - val_acc: 0.9700\n",
      "Epoch 68/100\n",
      "400/400 [==============================] - 0s - loss: 0.1246 - acc: 0.9225 - val_loss: 0.0767 - val_acc: 0.9700\n",
      "Epoch 69/100\n",
      "400/400 [==============================] - 0s - loss: 0.1254 - acc: 0.9225 - val_loss: 0.0633 - val_acc: 0.9700\n",
      "Epoch 70/100\n",
      "400/400 [==============================] - 0s - loss: 0.1248 - acc: 0.9225 - val_loss: 0.0635 - val_acc: 0.9700\n",
      "Epoch 71/100\n",
      "400/400 [==============================] - 0s - loss: 0.1249 - acc: 0.9225 - val_loss: 0.0601 - val_acc: 0.9700\n",
      "Epoch 72/100\n",
      "400/400 [==============================] - 0s - loss: 0.1254 - acc: 0.9225 - val_loss: 0.0754 - val_acc: 0.9700\n",
      "Epoch 73/100\n",
      "400/400 [==============================] - 0s - loss: 0.1247 - acc: 0.9225 - val_loss: 0.0628 - val_acc: 0.9700\n",
      "Epoch 74/100\n",
      "400/400 [==============================] - 0s - loss: 0.1253 - acc: 0.9225 - val_loss: 0.0651 - val_acc: 0.9700\n",
      "Epoch 75/100\n",
      "400/400 [==============================] - 0s - loss: 0.1250 - acc: 0.9225 - val_loss: 0.0633 - val_acc: 0.9700\n",
      "Epoch 76/100\n",
      "400/400 [==============================] - 0s - loss: 0.1241 - acc: 0.9225 - val_loss: 0.0617 - val_acc: 0.9700\n",
      "Epoch 77/100\n",
      "400/400 [==============================] - 0s - loss: 0.1244 - acc: 0.9225 - val_loss: 0.0708 - val_acc: 0.9700\n",
      "Epoch 78/100\n",
      "400/400 [==============================] - 0s - loss: 0.1254 - acc: 0.9225 - val_loss: 0.0658 - val_acc: 0.9700\n",
      "Epoch 79/100\n",
      "400/400 [==============================] - 0s - loss: 0.1243 - acc: 0.9225 - val_loss: 0.0612 - val_acc: 0.9700\n",
      "Epoch 80/100\n",
      "400/400 [==============================] - 0s - loss: 0.1247 - acc: 0.9225 - val_loss: 0.0630 - val_acc: 0.9700\n",
      "Epoch 81/100\n",
      "400/400 [==============================] - 0s - loss: 0.1251 - acc: 0.9225 - val_loss: 0.0614 - val_acc: 0.9700\n",
      "Epoch 82/100\n",
      "400/400 [==============================] - 0s - loss: 0.1254 - acc: 0.9225 - val_loss: 0.0635 - val_acc: 0.9700\n",
      "Epoch 83/100\n",
      "400/400 [==============================] - 0s - loss: 0.1246 - acc: 0.9225 - val_loss: 0.0609 - val_acc: 0.9700\n",
      "Epoch 84/100\n",
      "400/400 [==============================] - 0s - loss: 0.1247 - acc: 0.9225 - val_loss: 0.0679 - val_acc: 0.9700\n",
      "Epoch 85/100\n",
      "400/400 [==============================] - 0s - loss: 0.1248 - acc: 0.9225 - val_loss: 0.0712 - val_acc: 0.9700\n",
      "Epoch 86/100\n",
      "400/400 [==============================] - 0s - loss: 0.1243 - acc: 0.9225 - val_loss: 0.0650 - val_acc: 0.9700\n",
      "Epoch 87/100\n",
      "400/400 [==============================] - 0s - loss: 0.1246 - acc: 0.9225 - val_loss: 0.0662 - val_acc: 0.9700\n",
      "Epoch 88/100\n",
      "400/400 [==============================] - 0s - loss: 0.1244 - acc: 0.9225 - val_loss: 0.0613 - val_acc: 0.9700\n",
      "Epoch 89/100\n",
      "400/400 [==============================] - 0s - loss: 0.1240 - acc: 0.9225 - val_loss: 0.0676 - val_acc: 0.9700\n",
      "Epoch 90/100\n",
      "400/400 [==============================] - 0s - loss: 0.1233 - acc: 0.9225 - val_loss: 0.0855 - val_acc: 0.9600\n",
      "Epoch 91/100\n",
      "400/400 [==============================] - 0s - loss: 0.1256 - acc: 0.9225 - val_loss: 0.0629 - val_acc: 0.9700\n",
      "Epoch 92/100\n",
      "400/400 [==============================] - 0s - loss: 0.1251 - acc: 0.9225 - val_loss: 0.0686 - val_acc: 0.9700\n",
      "Epoch 93/100\n",
      "400/400 [==============================] - 0s - loss: 0.1252 - acc: 0.9225 - val_loss: 0.0630 - val_acc: 0.9700\n",
      "Epoch 94/100\n",
      "400/400 [==============================] - 0s - loss: 0.1243 - acc: 0.9225 - val_loss: 0.0691 - val_acc: 0.9700\n",
      "Epoch 95/100\n",
      "400/400 [==============================] - 0s - loss: 0.1249 - acc: 0.9225 - val_loss: 0.0668 - val_acc: 0.9700\n",
      "Epoch 96/100\n",
      "400/400 [==============================] - 0s - loss: 0.1253 - acc: 0.9225 - val_loss: 0.0714 - val_acc: 0.9700\n",
      "Epoch 97/100\n",
      "400/400 [==============================] - 0s - loss: 0.1245 - acc: 0.9225 - val_loss: 0.0618 - val_acc: 0.9700\n",
      "Epoch 98/100\n",
      "400/400 [==============================] - 0s - loss: 0.1243 - acc: 0.9225 - val_loss: 0.0609 - val_acc: 0.9700\n",
      "Epoch 99/100\n",
      "400/400 [==============================] - 0s - loss: 0.1246 - acc: 0.9225 - val_loss: 0.0608 - val_acc: 0.9700\n",
      "Epoch 100/100\n",
      "400/400 [==============================] - 0s - loss: 0.1241 - acc: 0.9225 - val_loss: 0.0632 - val_acc: 0.9700\n"
     ]
    }
   ],
   "source": [
    "from keras.models import Sequential\n",
    "from keras.layers import Dense\n",
    "\n",
    "model = Sequential()\n",
    "model.add(Dense(16, input_dim=9, init='uniform',activation='linear'))\n",
    "model.add(Dense(8, activation='linear'))\n",
    "model.add(Dense(3, activation='linear'))\n",
    "model.compile(loss='mean_squared_error',optimizer='rmsprop',metrics=['accuracy'])\n",
    "\n",
    "N = 500\n",
    "x_train = np.random.random((N,9))\n",
    "\n",
    "y_train = np.array([np.linalg.eigvals(np.reshape(matrix,(3,3))) for matrix in x_train])\n",
    "\n",
    "hist = model.fit(x_train,y_train, nb_epoch=100, batch_size=30,verbose=1,shuffle=True, validation_split=0.2)"
   ]
  },
  {
   "cell_type": "code",
   "execution_count": 16,
   "metadata": {},
   "outputs": [
    {
     "data": {
      "image/png": "[encoded data removed]",
      "text/plain": [
       "<matplotlib.figure.Figure at 0x2b171b00>"
      ]
     },
     "metadata": {},
     "output_type": "display_data"
    }
   ],
   "source": [
    "x_val = np.random.random((100,9))\n",
    "y_val = np.array([np.linalg.eigvals(np.reshape(matrix,(3,3))) for matrix in x_val])\n",
    "\n",
    "out = model.predict(x_val)\n",
    "\n",
    "errors= np.mean(np.abs(y_val-out),axis=1)\n",
    "\n",
    "%matplotlib inline\n",
    "import matplotlib.pyplot as plt\n",
    "#plt.scatter(range(len(errors)),errors,c='r',label='Accurate')\n",
    "#plt.legend(loc=1)\n",
    "plt.hist(errors)\n",
    "plt.show()  "
   ]
  },
  {
   "cell_type": "markdown",
   "metadata": {},
   "source": [
    "# Similar Matrix"
   ]
  },
  {
   "cell_type": "code",
   "execution_count": null,
   "metadata": {
    "collapsed": true
   },
   "outputs": [],
   "source": [
    "from keras.models import Sequential\n",
    "from keras.layers import Dense\n",
    "\n",
    "model = Sequential()\n",
    "model.add(Dense(16, input_dim=9, init='uniform',activation='linear'))\n",
    "model.add(Dense(8, activation='linear'))\n",
    "model.add(Dense(3, activation='linear'))\n",
    "model.compile(loss='mean_squared_error',optimizer='rmsprop',metrics=['accuracy'])\n",
    "\n",
    "N = 500\n",
    "x_train = np.random.random((N,9))\n",
    "\n",
    "y_train = np.array([np.linalg.eigvals(np.reshape(matrix,(3,3))) for matrix in x_train])\n",
    "\n",
    "hist = model.fit(x_train,y_train, nb_epoch=100, batch_size=30,verbose=1,shuffle=True, validation_split=0.2)"
   ]
  }
 ],
 "metadata": {
  "anaconda-cloud": {},
  "kernelspec": {
   "display_name": "Python 3",
   "language": "python",
   "name": "python3"
  },
  "language_info": {
   "codemirror_mode": {
    "name": "ipython",
    "version": 2
   },
   "file_extension": ".py",
   "mimetype": "text/x-python",
   "name": "python",
   "nbconvert_exporter": "python",
   "pygments_lexer": "ipython2",
   "version": "2.7.12"
  }
 },
 "nbformat": 4,
 "nbformat_minor": 1
}
