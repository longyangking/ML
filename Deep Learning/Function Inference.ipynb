{
 "cells": [
  {
   "cell_type": "markdown",
   "metadata": {},
   "source": [
    "# Function Inference"
   ]
  },
  {
   "cell_type": "markdown",
   "metadata": {},
   "source": [
    "## Test"
   ]
  },
  {
   "cell_type": "code",
   "execution_count": 1,
   "metadata": {
    "collapsed": false
   },
   "outputs": [
    {
     "name": "stderr",
     "output_type": "stream",
     "text": [
      "Using Theano backend.\n",
      "ERROR (theano.sandbox.cuda): nvcc compiler not found on $PATH. Check your nvcc installation and try again.\n"
     ]
    },
    {
     "name": "stdout",
     "output_type": "stream",
     "text": [
      "Train on 1000 samples, validate on 100 samples\n",
      "Epoch 1/5\n",
      "1000/1000 [==============================] - 1s - loss: 11.4186 - acc: 0.1060 - val_loss: 11.4559 - val_acc: 0.1100\n",
      "Epoch 2/5\n",
      "1000/1000 [==============================] - 1s - loss: 11.4126 - acc: 0.1120 - val_loss: 11.4555 - val_acc: 0.1100\n",
      "Epoch 3/5\n",
      "1000/1000 [==============================] - 1s - loss: 11.4114 - acc: 0.1000 - val_loss: 11.4534 - val_acc: 0.1200\n",
      "Epoch 4/5\n",
      "1000/1000 [==============================] - 1s - loss: 11.4099 - acc: 0.1060 - val_loss: 11.4519 - val_acc: 0.1300\n",
      "Epoch 5/5\n",
      "1000/1000 [==============================] - 1s - loss: 11.4097 - acc: 0.1220 - val_loss: 11.4545 - val_acc: 0.1500\n"
     ]
    },
    {
     "data": {
      "text/plain": [
       "<keras.callbacks.History at 0xc2ecf60>"
      ]
     },
     "execution_count": 1,
     "metadata": {},
     "output_type": "execute_result"
    }
   ],
   "source": [
    "from keras.models import Sequential\n",
    "from keras.layers import LSTM, Dense\n",
    "import numpy as np\n",
    "\n",
    "data_dim = 16\n",
    "timesteps = 8\n",
    "nb_classes = 10\n",
    "\n",
    "model = Sequential()\n",
    "model.add(LSTM(32,return_sequences=True,input_shape=(timesteps,data_dim)))\n",
    "model.add(LSTM(32,return_sequences=True))\n",
    "model.add(LSTM(32))\n",
    "model.add(Dense(10,activation='softmax'))\n",
    "\n",
    "model.compile(loss='categorical_crossentropy',optimizer='rmsprop',metrics=['accuracy'])\n",
    "\n",
    "x_train = np.random.random((1000,timesteps,data_dim))\n",
    "y_train = np.random.random((1000,nb_classes))\n",
    "\n",
    "x_val = np.random.random((100,timesteps,data_dim))\n",
    "y_val = np.random.random((100,nb_classes))\n",
    "\n",
    "model.fit(x_train,y_train,batch_size=64,nb_epoch=5,validation_data=(x_val,y_val))"
   ]
  },
  {
   "cell_type": "code",
   "execution_count": 2,
   "metadata": {
    "collapsed": false,
    "scrolled": true
   },
   "outputs": [
    {
     "data": {
      "text/plain": [
       "array([[ 0.10044701,  0.09102966,  0.09954805,  0.10264879,  0.1045118 ,\n",
       "         0.09519353,  0.09392653,  0.10579407,  0.10093626,  0.10596429]], dtype=float32)"
      ]
     },
     "execution_count": 2,
     "metadata": {},
     "output_type": "execute_result"
    }
   ],
   "source": [
    "x_test = np.random.random((1,timesteps,data_dim))\n",
    "model.predict(x_test)"
   ]
  },
  {
   "cell_type": "code",
   "execution_count": 39,
   "metadata": {
    "collapsed": false
   },
   "outputs": [
    {
     "ename": "ImportError",
     "evalue": "cannot import name gof",
     "output_type": "error",
     "traceback": [
      "\u001b[0;31m---------------------------------------------------------------------------\u001b[0m",
      "\u001b[0;31mImportError\u001b[0m                               Traceback (most recent call last)",
      "\u001b[0;32m<ipython-input-39-5e1266bcf898>\u001b[0m in \u001b[0;36m<module>\u001b[0;34m()\u001b[0m\n\u001b[0;32m----> 1\u001b[0;31m \u001b[1;32mfrom\u001b[0m \u001b[0mtheano\u001b[0m \u001b[1;32mimport\u001b[0m \u001b[0mconfig\u001b[0m\u001b[1;33m\u001b[0m\u001b[0m\n\u001b[0m",
      "\u001b[0;32mD:\\Anaconda2\\lib\\site-packages\\theano\\__init__.py\u001b[0m in \u001b[0;36m<module>\u001b[0;34m()\u001b[0m\n\u001b[1;32m     72\u001b[0m \u001b[1;32mfrom\u001b[0m \u001b[0mtheano\u001b[0m\u001b[1;33m.\u001b[0m\u001b[0mmisc\u001b[0m\u001b[1;33m.\u001b[0m\u001b[0msafe_asarray\u001b[0m \u001b[1;32mimport\u001b[0m \u001b[0m_asarray\u001b[0m\u001b[1;33m\u001b[0m\u001b[0m\n\u001b[1;32m     73\u001b[0m \u001b[1;33m\u001b[0m\u001b[0m\n\u001b[0;32m---> 74\u001b[0;31m \u001b[1;32mfrom\u001b[0m \u001b[0mtheano\u001b[0m\u001b[1;33m.\u001b[0m\u001b[0mprinting\u001b[0m \u001b[1;32mimport\u001b[0m \u001b[0mpprint\u001b[0m\u001b[1;33m,\u001b[0m \u001b[0mpp\u001b[0m\u001b[1;33m\u001b[0m\u001b[0m\n\u001b[0m\u001b[1;32m     75\u001b[0m \u001b[1;33m\u001b[0m\u001b[0m\n\u001b[1;32m     76\u001b[0m \u001b[1;32mfrom\u001b[0m \u001b[0mtheano\u001b[0m\u001b[1;33m.\u001b[0m\u001b[0mscan_module\u001b[0m \u001b[1;32mimport\u001b[0m \u001b[0mscan\u001b[0m\u001b[1;33m,\u001b[0m \u001b[0mmap\u001b[0m\u001b[1;33m,\u001b[0m \u001b[0mreduce\u001b[0m\u001b[1;33m,\u001b[0m \u001b[0mfoldl\u001b[0m\u001b[1;33m,\u001b[0m \u001b[0mfoldr\u001b[0m\u001b[1;33m,\u001b[0m \u001b[0mclone\u001b[0m\u001b[1;33m\u001b[0m\u001b[0m\n",
      "\u001b[0;32mD:\\Anaconda2\\lib\\site-packages\\theano\\printing.py\u001b[0m in \u001b[0;36m<module>\u001b[0;34m()\u001b[0m\n\u001b[1;32m     17\u001b[0m \u001b[1;33m\u001b[0m\u001b[0m\n\u001b[1;32m     18\u001b[0m \u001b[1;32mimport\u001b[0m \u001b[0mtheano\u001b[0m\u001b[1;33m\u001b[0m\u001b[0m\n\u001b[0;32m---> 19\u001b[0;31m \u001b[1;32mfrom\u001b[0m \u001b[0mtheano\u001b[0m \u001b[1;32mimport\u001b[0m \u001b[0mgof\u001b[0m\u001b[1;33m\u001b[0m\u001b[0m\n\u001b[0m\u001b[1;32m     20\u001b[0m \u001b[1;32mfrom\u001b[0m \u001b[0mtheano\u001b[0m \u001b[1;32mimport\u001b[0m \u001b[0mconfig\u001b[0m\u001b[1;33m\u001b[0m\u001b[0m\n\u001b[1;32m     21\u001b[0m \u001b[1;32mfrom\u001b[0m \u001b[0mtheano\u001b[0m\u001b[1;33m.\u001b[0m\u001b[0mgof\u001b[0m \u001b[1;32mimport\u001b[0m \u001b[0mOp\u001b[0m\u001b[1;33m,\u001b[0m \u001b[0mApply\u001b[0m\u001b[1;33m\u001b[0m\u001b[0m\n",
      "\u001b[0;31mImportError\u001b[0m: cannot import name gof"
     ]
    }
   ],
   "source": [
    "from theano import config"
   ]
  },
  {
   "cell_type": "markdown",
   "metadata": {},
   "source": [
    "## Interpolation"
   ]
  },
  {
   "cell_type": "code",
   "execution_count": 28,
   "metadata": {
    "collapsed": false,
    "scrolled": true
   },
   "outputs": [
    {
     "name": "stdout",
     "output_type": "stream",
     "text": [
      "Train on 4000 samples, validate on 1000 samples\n",
      "Epoch 1/100\n",
      "4000/4000 [==============================] - 0s - loss: 0.1287 - acc: 0.0000e+00 - val_loss: 0.0652 - val_acc: 0.0000e+00\n",
      "Epoch 2/100\n",
      "4000/4000 [==============================] - 0s - loss: 0.0509 - acc: 0.0000e+00 - val_loss: 0.0365 - val_acc: 0.0000e+00\n",
      "Epoch 3/100\n",
      "4000/4000 [==============================] - 0s - loss: 0.0338 - acc: 0.0000e+00 - val_loss: 0.0216 - val_acc: 0.0000e+00\n",
      "Epoch 4/100\n",
      "4000/4000 [==============================] - 0s - loss: 0.0198 - acc: 0.0000e+00 - val_loss: 0.0093 - val_acc: 0.0000e+00\n",
      "Epoch 5/100\n",
      "4000/4000 [==============================] - 0s - loss: 0.0127 - acc: 0.0000e+00 - val_loss: 0.0245 - val_acc: 0.0000e+00\n",
      "Epoch 6/100\n",
      "4000/4000 [==============================] - 0s - loss: 0.0098 - acc: 0.0000e+00 - val_loss: 0.0185 - val_acc: 0.0000e+00\n",
      "Epoch 7/100\n",
      "4000/4000 [==============================] - 0s - loss: 0.0076 - acc: 0.0000e+00 - val_loss: 0.0165 - val_acc: 0.0000e+00\n",
      "Epoch 8/100\n",
      "4000/4000 [==============================] - 0s - loss: 0.0071 - acc: 0.0000e+00 - val_loss: 0.0054 - val_acc: 0.0000e+00\n",
      "Epoch 9/100\n",
      "4000/4000 [==============================] - 0s - loss: 0.0067 - acc: 0.0000e+00 - val_loss: 0.0017 - val_acc: 0.0000e+00\n",
      "Epoch 10/100\n",
      "4000/4000 [==============================] - 0s - loss: 0.0057 - acc: 0.0000e+00 - val_loss: 0.0092 - val_acc: 0.0000e+00\n",
      "Epoch 11/100\n",
      "4000/4000 [==============================] - 0s - loss: 0.0056 - acc: 0.0000e+00 - val_loss: 0.0130 - val_acc: 0.0000e+00\n",
      "Epoch 12/100\n",
      "4000/4000 [==============================] - 1s - loss: 0.0053 - acc: 0.0000e+00 - val_loss: 0.0042 - val_acc: 0.0000e+00\n",
      "Epoch 13/100\n",
      "4000/4000 [==============================] - 0s - loss: 0.0050 - acc: 0.0000e+00 - val_loss: 4.5014e-04 - val_acc: 0.0000e+00\n",
      "Epoch 14/100\n",
      "4000/4000 [==============================] - 1s - loss: 0.0047 - acc: 0.0000e+00 - val_loss: 4.2051e-04 - val_acc: 0.0000e+00\n",
      "Epoch 15/100\n",
      "4000/4000 [==============================] - 0s - loss: 0.0046 - acc: 0.0000e+00 - val_loss: 0.0080 - val_acc: 0.0000e+00\n",
      "Epoch 16/100\n",
      "4000/4000 [==============================] - 0s - loss: 0.0044 - acc: 0.0000e+00 - val_loss: 0.0119 - val_acc: 0.0000e+00\n",
      "Epoch 17/100\n",
      "4000/4000 [==============================] - 0s - loss: 0.0042 - acc: 0.0000e+00 - val_loss: 3.6020e-04 - val_acc: 0.0000e+00\n",
      "Epoch 18/100\n",
      "4000/4000 [==============================] - 0s - loss: 0.0042 - acc: 0.0000e+00 - val_loss: 0.0026 - val_acc: 0.0000e+00\n",
      "Epoch 19/100\n",
      "4000/4000 [==============================] - 0s - loss: 0.0038 - acc: 0.0000e+00 - val_loss: 8.6792e-04 - val_acc: 0.0000e+00\n",
      "Epoch 20/100\n",
      "4000/4000 [==============================] - 1s - loss: 0.0034 - acc: 0.0000e+00 - val_loss: 0.0111 - val_acc: 0.0000e+00\n",
      "Epoch 21/100\n",
      "4000/4000 [==============================] - 0s - loss: 0.0038 - acc: 0.0000e+00 - val_loss: 0.0040 - val_acc: 0.0000e+00\n",
      "Epoch 22/100\n",
      "4000/4000 [==============================] - 0s - loss: 0.0035 - acc: 0.0000e+00 - val_loss: 0.0022 - val_acc: 0.0000e+00\n",
      "Epoch 23/100\n",
      "4000/4000 [==============================] - 0s - loss: 0.0031 - acc: 0.0000e+00 - val_loss: 0.0097 - val_acc: 0.0000e+00\n",
      "Epoch 24/100\n",
      "4000/4000 [==============================] - 2s - loss: 0.0033 - acc: 0.0000e+00 - val_loss: 0.0107 - val_acc: 0.0000e+00\n",
      "Epoch 25/100\n",
      "4000/4000 [==============================] - 0s - loss: 0.0029 - acc: 0.0000e+00 - val_loss: 0.0054 - val_acc: 0.0000e+00\n",
      "Epoch 26/100\n",
      "4000/4000 [==============================] - 1s - loss: 0.0029 - acc: 0.0000e+00 - val_loss: 2.4062e-04 - val_acc: 0.0000e+00\n",
      "Epoch 27/100\n",
      "4000/4000 [==============================] - 0s - loss: 0.0027 - acc: 0.0000e+00 - val_loss: 0.0099 - val_acc: 0.0000e+00\n",
      "Epoch 28/100\n",
      "4000/4000 [==============================] - 1s - loss: 0.0027 - acc: 0.0000e+00 - val_loss: 0.0079 - val_acc: 0.0000e+00\n",
      "Epoch 29/100\n",
      "4000/4000 [==============================] - 0s - loss: 0.0026 - acc: 0.0000e+00 - val_loss: 0.0022 - val_acc: 0.0000e+00\n",
      "Epoch 30/100\n",
      "4000/4000 [==============================] - 1s - loss: 0.0025 - acc: 0.0000e+00 - val_loss: 0.0018 - val_acc: 0.0000e+00\n",
      "Epoch 31/100\n",
      "4000/4000 [==============================] - 1s - loss: 0.0023 - acc: 0.0000e+00 - val_loss: 1.9588e-04 - val_acc: 0.0000e+00\n",
      "Epoch 32/100\n",
      "4000/4000 [==============================] - 0s - loss: 0.0025 - acc: 0.0000e+00 - val_loss: 1.7531e-04 - val_acc: 0.0000e+00\n",
      "Epoch 33/100\n",
      "4000/4000 [==============================] - 0s - loss: 0.0023 - acc: 0.0000e+00 - val_loss: 2.1255e-04 - val_acc: 0.0000e+00\n",
      "Epoch 34/100\n",
      "4000/4000 [==============================] - 0s - loss: 0.0023 - acc: 0.0000e+00 - val_loss: 0.0022 - val_acc: 0.0000e+00\n",
      "Epoch 35/100\n",
      "4000/4000 [==============================] - 0s - loss: 0.0023 - acc: 0.0000e+00 - val_loss: 0.0013 - val_acc: 0.0000e+00\n",
      "Epoch 36/100\n",
      "4000/4000 [==============================] - 1s - loss: 0.0022 - acc: 0.0000e+00 - val_loss: 4.7108e-04 - val_acc: 0.0000e+00\n",
      "Epoch 37/100\n",
      "4000/4000 [==============================] - 1s - loss: 0.0021 - acc: 0.0000e+00 - val_loss: 2.0346e-04 - val_acc: 0.0000e+00\n",
      "Epoch 38/100\n",
      "4000/4000 [==============================] - 0s - loss: 0.0020 - acc: 0.0000e+00 - val_loss: 0.0058 - val_acc: 0.0000e+00\n",
      "Epoch 39/100\n",
      "4000/4000 [==============================] - 0s - loss: 0.0021 - acc: 0.0000e+00 - val_loss: 7.1148e-04 - val_acc: 0.0000e+00\n",
      "Epoch 40/100\n",
      "4000/4000 [==============================] - 1s - loss: 0.0020 - acc: 0.0000e+00 - val_loss: 0.0024 - val_acc: 0.0000e+00\n",
      "Epoch 41/100\n",
      "4000/4000 [==============================] - 1s - loss: 0.0020 - acc: 0.0000e+00 - val_loss: 2.1673e-04 - val_acc: 0.0000e+00\n",
      "Epoch 42/100\n",
      "4000/4000 [==============================] - 1s - loss: 0.0018 - acc: 0.0000e+00 - val_loss: 2.0142e-04 - val_acc: 0.0000e+00\n",
      "Epoch 43/100\n",
      "4000/4000 [==============================] - 1s - loss: 0.0018 - acc: 0.0000e+00 - val_loss: 0.0024 - val_acc: 0.0000e+00\n",
      "Epoch 44/100\n",
      "4000/4000 [==============================] - 0s - loss: 0.0018 - acc: 0.0000e+00 - val_loss: 6.2759e-04 - val_acc: 0.0000e+00\n",
      "Epoch 45/100\n",
      "4000/4000 [==============================] - 1s - loss: 0.0017 - acc: 0.0000e+00 - val_loss: 0.0024 - val_acc: 0.0000e+00\n",
      "Epoch 46/100\n",
      "4000/4000 [==============================] - 1s - loss: 0.0018 - acc: 0.0000e+00 - val_loss: 0.0054 - val_acc: 0.0000e+00\n",
      "Epoch 47/100\n",
      "4000/4000 [==============================] - 0s - loss: 0.0018 - acc: 0.0000e+00 - val_loss: 0.0067 - val_acc: 0.0000e+00\n",
      "Epoch 48/100\n",
      "4000/4000 [==============================] - 0s - loss: 0.0017 - acc: 0.0000e+00 - val_loss: 0.0012 - val_acc: 0.0000e+00\n",
      "Epoch 49/100\n",
      "4000/4000 [==============================] - 1s - loss: 0.0017 - acc: 0.0000e+00 - val_loss: 2.7648e-04 - val_acc: 0.0000e+00\n",
      "Epoch 50/100\n",
      "4000/4000 [==============================] - 0s - loss: 0.0016 - acc: 0.0000e+00 - val_loss: 1.7062e-04 - val_acc: 0.0000e+00\n",
      "Epoch 51/100\n",
      "4000/4000 [==============================] - 1s - loss: 0.0017 - acc: 0.0000e+00 - val_loss: 0.0065 - val_acc: 0.0000e+00\n",
      "Epoch 52/100\n",
      "4000/4000 [==============================] - 0s - loss: 0.0016 - acc: 0.0000e+00 - val_loss: 4.7465e-04 - val_acc: 0.0000e+00\n",
      "Epoch 53/100\n",
      "4000/4000 [==============================] - 0s - loss: 0.0015 - acc: 0.0000e+00 - val_loss: 7.6650e-05 - val_acc: 0.0000e+00\n",
      "Epoch 54/100\n",
      "4000/4000 [==============================] - 1s - loss: 0.0015 - acc: 0.0000e+00 - val_loss: 1.2920e-04 - val_acc: 0.0000e+00\n",
      "Epoch 55/100\n",
      "4000/4000 [==============================] - 1s - loss: 0.0015 - acc: 0.0000e+00 - val_loss: 8.0288e-05 - val_acc: 0.0000e+00\n",
      "Epoch 56/100\n",
      "4000/4000 [==============================] - 1s - loss: 0.0015 - acc: 0.0000e+00 - val_loss: 2.3127e-04 - val_acc: 0.0000e+00\n",
      "Epoch 57/100\n",
      "4000/4000 [==============================] - 1s - loss: 0.0015 - acc: 0.0000e+00 - val_loss: 0.0018 - val_acc: 0.0000e+00\n",
      "Epoch 58/100\n",
      "4000/4000 [==============================] - 0s - loss: 0.0016 - acc: 0.0000e+00 - val_loss: 1.6476e-04 - val_acc: 0.0000e+00\n",
      "Epoch 59/100\n",
      "4000/4000 [==============================] - 1s - loss: 0.0015 - acc: 0.0000e+00 - val_loss: 0.0015 - val_acc: 0.0000e+00\n",
      "Epoch 60/100\n",
      "4000/4000 [==============================] - 1s - loss: 0.0014 - acc: 0.0000e+00 - val_loss: 0.0012 - val_acc: 0.0000e+00\n",
      "Epoch 61/100\n",
      "4000/4000 [==============================] - 1s - loss: 0.0014 - acc: 0.0000e+00 - val_loss: 0.0011 - val_acc: 0.0000e+00\n",
      "Epoch 62/100\n",
      "4000/4000 [==============================] - 1s - loss: 0.0013 - acc: 0.0000e+00 - val_loss: 0.0047 - val_acc: 0.0000e+00\n",
      "Epoch 63/100\n",
      "4000/4000 [==============================] - 0s - loss: 0.0014 - acc: 0.0000e+00 - val_loss: 0.0012 - val_acc: 0.0000e+00\n",
      "Epoch 64/100\n",
      "4000/4000 [==============================] - 0s - loss: 0.0014 - acc: 0.0000e+00 - val_loss: 0.0024 - val_acc: 0.0000e+00\n",
      "Epoch 65/100\n",
      "4000/4000 [==============================] - 2s - loss: 0.0013 - acc: 0.0000e+00 - val_loss: 4.4372e-04 - val_acc: 0.0000e+00\n",
      "Epoch 66/100\n",
      "4000/4000 [==============================] - 0s - loss: 0.0014 - acc: 0.0000e+00 - val_loss: 1.5135e-04 - val_acc: 0.0000e+00\n",
      "Epoch 67/100\n",
      "4000/4000 [==============================] - 1s - loss: 0.0014 - acc: 0.0000e+00 - val_loss: 1.9236e-04 - val_acc: 0.0000e+00\n",
      "Epoch 68/100\n",
      "4000/4000 [==============================] - 1s - loss: 0.0013 - acc: 0.0000e+00 - val_loss: 2.5574e-04 - val_acc: 0.0000e+00\n",
      "Epoch 69/100\n",
      "4000/4000 [==============================] - 1s - loss: 0.0014 - acc: 0.0000e+00 - val_loss: 2.4897e-04 - val_acc: 0.0000e+00\n",
      "Epoch 70/100\n",
      "4000/4000 [==============================] - 1s - loss: 0.0014 - acc: 0.0000e+00 - val_loss: 0.0082 - val_acc: 0.0000e+00\n",
      "Epoch 71/100\n",
      "4000/4000 [==============================] - 1s - loss: 0.0013 - acc: 0.0000e+00 - val_loss: 2.5635e-04 - val_acc: 0.0000e+00\n",
      "Epoch 72/100\n",
      "4000/4000 [==============================] - 0s - loss: 0.0013 - acc: 0.0000e+00 - val_loss: 0.0015 - val_acc: 0.0000e+00\n",
      "Epoch 73/100\n",
      "4000/4000 [==============================] - 1s - loss: 0.0012 - acc: 0.0000e+00 - val_loss: 0.0019 - val_acc: 0.0000e+00\n",
      "Epoch 74/100\n",
      "4000/4000 [==============================] - 1s - loss: 0.0013 - acc: 0.0000e+00 - val_loss: 2.7064e-04 - val_acc: 0.0000e+00\n",
      "Epoch 75/100\n",
      "4000/4000 [==============================] - 1s - loss: 0.0013 - acc: 0.0000e+00 - val_loss: 0.0020 - val_acc: 0.0000e+00\n",
      "Epoch 76/100\n",
      "4000/4000 [==============================] - 1s - loss: 0.0013 - acc: 0.0000e+00 - val_loss: 0.0027 - val_acc: 0.0000e+00\n",
      "Epoch 77/100\n",
      "4000/4000 [==============================] - 1s - loss: 0.0012 - acc: 0.0000e+00 - val_loss: 4.5938e-04 - val_acc: 0.0000e+00\n",
      "Epoch 78/100\n",
      "4000/4000 [==============================] - 1s - loss: 0.0012 - acc: 0.0000e+00 - val_loss: 5.8583e-04 - val_acc: 0.0000e+00\n",
      "Epoch 79/100\n",
      "4000/4000 [==============================] - 0s - loss: 0.0012 - acc: 0.0000e+00 - val_loss: 0.0075 - val_acc: 0.0000e+00\n",
      "Epoch 80/100\n",
      "4000/4000 [==============================] - 0s - loss: 0.0012 - acc: 0.0000e+00 - val_loss: 5.9974e-04 - val_acc: 0.0000e+00\n",
      "Epoch 81/100\n",
      "4000/4000 [==============================] - 1s - loss: 0.0012 - acc: 0.0000e+00 - val_loss: 8.3825e-04 - val_acc: 0.0000e+00\n",
      "Epoch 82/100\n",
      "4000/4000 [==============================] - 1s - loss: 0.0011 - acc: 0.0000e+00 - val_loss: 0.0022 - val_acc: 0.0000e+00\n",
      "Epoch 83/100\n",
      "4000/4000 [==============================] - 1s - loss: 0.0012 - acc: 0.0000e+00 - val_loss: 5.8487e-05 - val_acc: 0.0000e+00\n",
      "Epoch 84/100\n",
      "4000/4000 [==============================] - 0s - loss: 0.0011 - acc: 0.0000e+00 - val_loss: 0.0015 - val_acc: 0.0000e+00\n",
      "Epoch 85/100\n",
      "4000/4000 [==============================] - 1s - loss: 0.0012 - acc: 0.0000e+00 - val_loss: 5.2447e-04 - val_acc: 0.0000e+00\n",
      "Epoch 86/100\n",
      "4000/4000 [==============================] - 1s - loss: 0.0011 - acc: 0.0000e+00 - val_loss: 0.0035 - val_acc: 0.0000e+00\n",
      "Epoch 87/100\n",
      "4000/4000 [==============================] - 1s - loss: 0.0011 - acc: 0.0000e+00 - val_loss: 1.0104e-04 - val_acc: 0.0000e+00\n",
      "Epoch 88/100\n",
      "4000/4000 [==============================] - 0s - loss: 0.0011 - acc: 0.0000e+00 - val_loss: 3.9764e-04 - val_acc: 0.0000e+00\n",
      "Epoch 89/100\n",
      "4000/4000 [==============================] - 1s - loss: 0.0011 - acc: 0.0000e+00 - val_loss: 0.0017 - val_acc: 0.0000e+00\n",
      "Epoch 90/100\n",
      "4000/4000 [==============================] - 1s - loss: 0.0011 - acc: 0.0000e+00 - val_loss: 8.9751e-05 - val_acc: 0.0000e+00\n",
      "Epoch 91/100\n",
      "4000/4000 [==============================] - 1s - loss: 0.0010 - acc: 0.0000e+00 - val_loss: 0.0011 - val_acc: 0.0000e+00\n",
      "Epoch 92/100\n",
      "4000/4000 [==============================] - 1s - loss: 0.0011 - acc: 0.0000e+00 - val_loss: 4.2285e-04 - val_acc: 0.0000e+00\n",
      "Epoch 93/100\n",
      "4000/4000 [==============================] - 1s - loss: 0.0011 - acc: 0.0000e+00 - val_loss: 5.5057e-04 - val_acc: 0.0000e+00\n",
      "Epoch 94/100\n",
      "4000/4000 [==============================] - 1s - loss: 0.0011 - acc: 0.0000e+00 - val_loss: 0.0033 - val_acc: 0.0000e+00\n",
      "Epoch 95/100\n",
      "4000/4000 [==============================] - 1s - loss: 0.0010 - acc: 0.0000e+00 - val_loss: 3.4400e-04 - val_acc: 0.0000e+00\n",
      "Epoch 96/100\n",
      "4000/4000 [==============================] - 1s - loss: 9.9935e-04 - acc: 0.0000e+00 - val_loss: 3.1483e-04 - val_acc: 0.0000e+00\n",
      "Epoch 97/100\n",
      "4000/4000 [==============================] - 1s - loss: 0.0011 - acc: 0.0000e+00 - val_loss: 2.2260e-04 - val_acc: 0.0000e+00\n",
      "Epoch 98/100\n",
      "4000/4000 [==============================] - 2s - loss: 0.0010 - acc: 0.0000e+00 - val_loss: 7.0669e-05 - val_acc: 0.0000e+00\n",
      "Epoch 99/100\n",
      "4000/4000 [==============================] - 1s - loss: 0.0010 - acc: 0.0000e+00 - val_loss: 2.6041e-04 - val_acc: 0.0000e+00\n",
      "Epoch 100/100\n",
      "4000/4000 [==============================] - 0s - loss: 9.4877e-04 - acc: 0.0000e+00 - val_loss: 4.8299e-04 - val_acc: 0.0000e+00\n"
     ]
    },
    {
     "data": {
      "text/plain": [
       "<keras.callbacks.History at 0x437317f0>"
      ]
     },
     "execution_count": 28,
     "metadata": {},
     "output_type": "execute_result"
    }
   ],
   "source": [
    "from keras.models import Sequential\n",
    "from keras.layers import LSTM, Dense\n",
    "\n",
    "import numpy as np\n",
    "import math\n",
    "%matplotlib inline\n",
    "import matplotlib.pyplot as plt\n",
    "\n",
    "model = Sequential()\n",
    "model.add(Dense(100, input_dim=1, init='uniform',activation='relu'))\n",
    "model.add(Dense(50, activation='relu'))\n",
    "model.add(Dense(50, activation='relu'))\n",
    "model.add(Dense(1, activation='tanh'))\n",
    "model.compile(loss='mean_squared_error',optimizer='rmsprop',metrics=['accuracy'])\n",
    "\n",
    "x_train = 2*math.pi*np.random.random((5000,1))\n",
    "y_train = np.sin(x_train)\n",
    "\n",
    "x_val = 2*math.pi*np.random.random((100,1))\n",
    "y_val = np.sin(x_val)\n",
    "\n",
    "model.fit(x_train,y_train, nb_epoch=100, batch_size=20, validation_split=0.2)"
   ]
  },
  {
   "cell_type": "markdown",
   "metadata": {},
   "source": [
    "## Prediction"
   ]
  },
  {
   "cell_type": "code",
   "execution_count": 29,
   "metadata": {
    "collapsed": false
   },
   "outputs": [],
   "source": [
    "out = model.predict(x_val)"
   ]
  },
  {
   "cell_type": "markdown",
   "metadata": {},
   "source": [
    "## Comparsion"
   ]
  },
  {
   "cell_type": "code",
   "execution_count": 31,
   "metadata": {
    "collapsed": false
   },
   "outputs": [
    {
     "data": {
      "image/png": "[encoded data removed]",
      "text/plain": [
       "<matplotlib.figure.Figure at 0x43b54dd8>"
      ]
     },
     "metadata": {},
     "output_type": "display_data"
    }
   ],
   "source": [
    "plt.scatter(x_val, y_val,c='r',label='Accurate')\n",
    "plt.scatter(x_val,out,label='Predicted')\n",
    "plt.legend(loc=1)\n",
    "plt.show()  "
   ]
  },
  {
   "cell_type": "code",
   "execution_count": null,
   "metadata": {
    "collapsed": true
   },
   "outputs": [],
   "source": []
  }
 ],
 "metadata": {
  "anaconda-cloud": {},
  "kernelspec": {
   "display_name": "Python [default]",
   "language": "python",
   "name": "python2"
  },
  "language_info": {
   "codemirror_mode": {
    "name": "ipython",
    "version": 2
   },
   "file_extension": ".py",
   "mimetype": "text/x-python",
   "name": "python",
   "nbconvert_exporter": "python",
   "pygments_lexer": "ipython2",
   "version": "2.7.12"
  }
 },
 "nbformat": 4,
 "nbformat_minor": 1
}
