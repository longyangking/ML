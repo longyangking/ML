{
 "cells": [
  {
   "cell_type": "markdown",
   "metadata": {},
   "source": [
    "# Multi-class classification"
   ]
  },
  {
   "cell_type": "code",
   "execution_count": 1,
   "metadata": {},
   "outputs": [
    {
     "name": "stderr",
     "output_type": "stream",
     "text": [
      "Using CNTK backend\n",
      "E:\\Anaconda2\\lib\\site-packages\\keras\\backend\\cntk_backend.py:19: UserWarning: CNTK backend warning: GPU is not detected. CNTK's CPU version is not fully optimized,please run with GPU to get better performance.\n",
      "  'CNTK backend warning: GPU is not detected. '\n",
      "E:\\Anaconda2\\lib\\site-packages\\cntk\\core.py:351: UserWarning: your data is of type \"float64\", but your input variable (uid \"Input4\") expects \"<type 'numpy.float32'>\". Please convert your data beforehand to speed up training.\n",
      "  (sample.dtype, var.uid, str(var.dtype)))\n",
      "E:\\Anaconda2\\lib\\site-packages\\cntk\\core.py:351: UserWarning: your data is of type \"float64\", but your input variable (uid \"Input67\") expects \"<type 'numpy.float32'>\". Please convert your data beforehand to speed up training.\n",
      "  (sample.dtype, var.uid, str(var.dtype)))\n"
     ]
    },
    {
     "name": "stdout",
     "output_type": "stream",
     "text": [
      "10.9999999404\n"
     ]
    }
   ],
   "source": [
    "import keras\n",
    "from keras.models import Sequential\n",
    "from keras.layers import Dense, Dropout, Activation\n",
    "from keras.optimizers import SGD\n",
    "import numpy as np\n",
    "x_train = np.random.random((1000, 20))\n",
    "y_train = keras.utils.to_categorical(np.random.randint(10, size=(1000, 1)), num_classes=10)\n",
    "x_test = np.random.random((100, 20))\n",
    "y_test = keras.utils.to_categorical(np.random.randint(10, size=(100, 1)), num_classes=10)\n",
    "\n",
    "model = Sequential()\n",
    "model.add(Dense(64, activation='relu', input_dim=20))\n",
    "model.add(Dropout(0.5))\n",
    "model.add(Dense(64, activation='relu'))\n",
    "model.add(Dropout(0.5))\n",
    "model.add(Dense(10, activation='softmax'))\n",
    "\n",
    "sgd = SGD(lr=0.01, decay=1e-6, momentum=0.9, nesterov=True)\n",
    "model.compile(loss='categorical_crossentropy',\n",
    "              optimizer=sgd,\n",
    "              metrics=['accuracy'])\n",
    "\n",
    "model.fit(x_train, y_train,\n",
    "          epochs=20,\n",
    "          batch_size=128,verbose=0)\n",
    "score = model.evaluate(x_test, y_test, batch_size=128,verbose=0)\n",
    "print score[1]*100"
   ]
  },
  {
   "cell_type": "markdown",
   "metadata": {},
   "source": [
    "## Model visualization\n",
    "Need to install graphicviz from official website and add its /bin into environmental variable $PATH"
   ]
  },
  {
   "cell_type": "code",
   "execution_count": 8,
   "metadata": {},
   "outputs": [
    {
     "data": {
      "image/svg+xml": [
       "<svg height=\"410pt\" viewBox=\"0.00 0.00 174.00 410.00\" width=\"174pt\" xmlns=\"http://www.w3.org/2000/svg\" xmlns:xlink=\"http://www.w3.org/1999/xlink\">\n",
       "<g class=\"graph\" id=\"graph0\" transform=\"scale(1 1) rotate(0) translate(4 406)\">\n",
       "<title>G</title>\n",
       "<polygon fill=\"white\" points=\"-4,4 -4,-406 170,-406 170,4 -4,4\" stroke=\"none\"/>\n",
       "<!-- 135904952 -->\n",
       "<g class=\"node\" id=\"node1\"><title>135904952</title>\n",
       "<polygon fill=\"none\" points=\"0,-365.5 0,-401.5 166,-401.5 166,-365.5 0,-365.5\" stroke=\"black\"/>\n",
       "<text font-family=\"Times New Roman,serif\" font-size=\"14.00\" text-anchor=\"middle\" x=\"83\" y=\"-379.8\">dense_4_input: InputLayer</text>\n",
       "</g>\n",
       "<!-- 136089672 -->\n",
       "<g class=\"node\" id=\"node2\"><title>136089672</title>\n",
       "<polygon fill=\"none\" points=\"31,-292.5 31,-328.5 135,-328.5 135,-292.5 31,-292.5\" stroke=\"black\"/>\n",
       "<text font-family=\"Times New Roman,serif\" font-size=\"14.00\" text-anchor=\"middle\" x=\"83\" y=\"-306.8\">dense_4: Dense</text>\n",
       "</g>\n",
       "<!-- 135904952&#45;&gt;136089672 -->\n",
       "<g class=\"edge\" id=\"edge1\"><title>135904952-&gt;136089672</title>\n",
       "<path d=\"M83,-365.313C83,-357.289 83,-347.547 83,-338.569\" fill=\"none\" stroke=\"black\"/>\n",
       "<polygon fill=\"black\" points=\"86.5001,-338.529 83,-328.529 79.5001,-338.529 86.5001,-338.529\" stroke=\"black\"/>\n",
       "</g>\n",
       "<!-- 139084800 -->\n",
       "<g class=\"node\" id=\"node3\"><title>139084800</title>\n",
       "<polygon fill=\"none\" points=\"18,-219.5 18,-255.5 148,-255.5 148,-219.5 18,-219.5\" stroke=\"black\"/>\n",
       "<text font-family=\"Times New Roman,serif\" font-size=\"14.00\" text-anchor=\"middle\" x=\"83\" y=\"-233.8\">dropout_3: Dropout</text>\n",
       "</g>\n",
       "<!-- 136089672&#45;&gt;139084800 -->\n",
       "<g class=\"edge\" id=\"edge2\"><title>136089672-&gt;139084800</title>\n",
       "<path d=\"M83,-292.313C83,-284.289 83,-274.547 83,-265.569\" fill=\"none\" stroke=\"black\"/>\n",
       "<polygon fill=\"black\" points=\"86.5001,-265.529 83,-255.529 79.5001,-265.529 86.5001,-265.529\" stroke=\"black\"/>\n",
       "</g>\n",
       "<!-- 135904672 -->\n",
       "<g class=\"node\" id=\"node4\"><title>135904672</title>\n",
       "<polygon fill=\"none\" points=\"31,-146.5 31,-182.5 135,-182.5 135,-146.5 31,-146.5\" stroke=\"black\"/>\n",
       "<text font-family=\"Times New Roman,serif\" font-size=\"14.00\" text-anchor=\"middle\" x=\"83\" y=\"-160.8\">dense_5: Dense</text>\n",
       "</g>\n",
       "<!-- 139084800&#45;&gt;135904672 -->\n",
       "<g class=\"edge\" id=\"edge3\"><title>139084800-&gt;135904672</title>\n",
       "<path d=\"M83,-219.313C83,-211.289 83,-201.547 83,-192.569\" fill=\"none\" stroke=\"black\"/>\n",
       "<polygon fill=\"black\" points=\"86.5001,-192.529 83,-182.529 79.5001,-192.529 86.5001,-192.529\" stroke=\"black\"/>\n",
       "</g>\n",
       "<!-- 135902712 -->\n",
       "<g class=\"node\" id=\"node5\"><title>135902712</title>\n",
       "<polygon fill=\"none\" points=\"18,-73.5 18,-109.5 148,-109.5 148,-73.5 18,-73.5\" stroke=\"black\"/>\n",
       "<text font-family=\"Times New Roman,serif\" font-size=\"14.00\" text-anchor=\"middle\" x=\"83\" y=\"-87.8\">dropout_4: Dropout</text>\n",
       "</g>\n",
       "<!-- 135904672&#45;&gt;135902712 -->\n",
       "<g class=\"edge\" id=\"edge4\"><title>135904672-&gt;135902712</title>\n",
       "<path d=\"M83,-146.313C83,-138.289 83,-128.547 83,-119.569\" fill=\"none\" stroke=\"black\"/>\n",
       "<polygon fill=\"black\" points=\"86.5001,-119.529 83,-109.529 79.5001,-119.529 86.5001,-119.529\" stroke=\"black\"/>\n",
       "</g>\n",
       "<!-- 135903552 -->\n",
       "<g class=\"node\" id=\"node6\"><title>135903552</title>\n",
       "<polygon fill=\"none\" points=\"31,-0.5 31,-36.5 135,-36.5 135,-0.5 31,-0.5\" stroke=\"black\"/>\n",
       "<text font-family=\"Times New Roman,serif\" font-size=\"14.00\" text-anchor=\"middle\" x=\"83\" y=\"-14.8\">dense_6: Dense</text>\n",
       "</g>\n",
       "<!-- 135902712&#45;&gt;135903552 -->\n",
       "<g class=\"edge\" id=\"edge5\"><title>135902712-&gt;135903552</title>\n",
       "<path d=\"M83,-73.3129C83,-65.2895 83,-55.5475 83,-46.5691\" fill=\"none\" stroke=\"black\"/>\n",
       "<polygon fill=\"black\" points=\"86.5001,-46.5288 83,-36.5288 79.5001,-46.5289 86.5001,-46.5288\" stroke=\"black\"/>\n",
       "</g>\n",
       "</g>\n",
       "</svg>"
      ],
      "text/plain": [
       "<IPython.core.display.SVG object>"
      ]
     },
     "execution_count": 8,
     "metadata": {},
     "output_type": "execute_result"
    }
   ],
   "source": [
    "from IPython.display import SVG\n",
    "from keras.utils.vis_utils import model_to_dot\n",
    "\n",
    "SVG(model_to_dot(model).create(prog='dot', format='svg'))"
   ]
  },
  {
   "cell_type": "markdown",
   "metadata": {},
   "source": [
    "# Binary Classification"
   ]
  },
  {
   "cell_type": "code",
   "execution_count": 2,
   "metadata": {},
   "outputs": [
    {
     "name": "stderr",
     "output_type": "stream",
     "text": [
      "E:\\Anaconda2\\lib\\site-packages\\cntk\\core.py:351: UserWarning: your data is of type \"float64\", but your input variable (uid \"Input536\") expects \"<type 'numpy.float32'>\". Please convert your data beforehand to speed up training.\n",
      "  (sample.dtype, var.uid, str(var.dtype)))\n"
     ]
    },
    {
     "name": "stdout",
     "output_type": "stream",
     "text": [
      "55.0000011921\n"
     ]
    }
   ],
   "source": [
    "import numpy as np\n",
    "from keras.models import Sequential\n",
    "from keras.layers import Dense, Dropout\n",
    "\n",
    "x_train = np.random.random((1000, 20))\n",
    "y_train = np.random.randint(2, size=(1000, 1))\n",
    "x_test = np.random.random((100, 20))\n",
    "y_test = np.random.randint(2, size=(100, 1))\n",
    "\n",
    "model = Sequential()\n",
    "model.add(Dense(64, input_dim=20, activation='relu'))\n",
    "model.add(Dropout(0.5))\n",
    "model.add(Dense(64, activation='relu'))\n",
    "model.add(Dropout(0.5))\n",
    "model.add(Dense(1, activation='sigmoid'))\n",
    "\n",
    "model.compile(loss='binary_crossentropy',\n",
    "              optimizer='rmsprop',\n",
    "              metrics=['accuracy'])\n",
    "\n",
    "model.fit(x_train, y_train,\n",
    "          epochs=20,\n",
    "          batch_size=128,verbose=0)\n",
    "score = model.evaluate(x_test, y_test, batch_size=128,verbose=0)\n",
    "print score[1]*100"
   ]
  },
  {
   "cell_type": "code",
   "execution_count": 6,
   "metadata": {},
   "outputs": [
    {
     "data": {
      "image/svg+xml": [
       "<svg height=\"410pt\" viewBox=\"0.00 0.00 174.00 410.00\" width=\"174pt\" xmlns=\"http://www.w3.org/2000/svg\" xmlns:xlink=\"http://www.w3.org/1999/xlink\">\n",
       "<g class=\"graph\" id=\"graph0\" transform=\"scale(1 1) rotate(0) translate(4 406)\">\n",
       "<title>G</title>\n",
       "<polygon fill=\"white\" points=\"-4,4 -4,-406 170,-406 170,4 -4,4\" stroke=\"none\"/>\n",
       "<!-- 135904952 -->\n",
       "<g class=\"node\" id=\"node1\"><title>135904952</title>\n",
       "<polygon fill=\"none\" points=\"0,-365.5 0,-401.5 166,-401.5 166,-365.5 0,-365.5\" stroke=\"black\"/>\n",
       "<text font-family=\"Times New Roman,serif\" font-size=\"14.00\" text-anchor=\"middle\" x=\"83\" y=\"-379.8\">dense_4_input: InputLayer</text>\n",
       "</g>\n",
       "<!-- 136089672 -->\n",
       "<g class=\"node\" id=\"node2\"><title>136089672</title>\n",
       "<polygon fill=\"none\" points=\"31,-292.5 31,-328.5 135,-328.5 135,-292.5 31,-292.5\" stroke=\"black\"/>\n",
       "<text font-family=\"Times New Roman,serif\" font-size=\"14.00\" text-anchor=\"middle\" x=\"83\" y=\"-306.8\">dense_4: Dense</text>\n",
       "</g>\n",
       "<!-- 135904952&#45;&gt;136089672 -->\n",
       "<g class=\"edge\" id=\"edge1\"><title>135904952-&gt;136089672</title>\n",
       "<path d=\"M83,-365.313C83,-357.289 83,-347.547 83,-338.569\" fill=\"none\" stroke=\"black\"/>\n",
       "<polygon fill=\"black\" points=\"86.5001,-338.529 83,-328.529 79.5001,-338.529 86.5001,-338.529\" stroke=\"black\"/>\n",
       "</g>\n",
       "<!-- 139084800 -->\n",
       "<g class=\"node\" id=\"node3\"><title>139084800</title>\n",
       "<polygon fill=\"none\" points=\"18,-219.5 18,-255.5 148,-255.5 148,-219.5 18,-219.5\" stroke=\"black\"/>\n",
       "<text font-family=\"Times New Roman,serif\" font-size=\"14.00\" text-anchor=\"middle\" x=\"83\" y=\"-233.8\">dropout_3: Dropout</text>\n",
       "</g>\n",
       "<!-- 136089672&#45;&gt;139084800 -->\n",
       "<g class=\"edge\" id=\"edge2\"><title>136089672-&gt;139084800</title>\n",
       "<path d=\"M83,-292.313C83,-284.289 83,-274.547 83,-265.569\" fill=\"none\" stroke=\"black\"/>\n",
       "<polygon fill=\"black\" points=\"86.5001,-265.529 83,-255.529 79.5001,-265.529 86.5001,-265.529\" stroke=\"black\"/>\n",
       "</g>\n",
       "<!-- 135904672 -->\n",
       "<g class=\"node\" id=\"node4\"><title>135904672</title>\n",
       "<polygon fill=\"none\" points=\"31,-146.5 31,-182.5 135,-182.5 135,-146.5 31,-146.5\" stroke=\"black\"/>\n",
       "<text font-family=\"Times New Roman,serif\" font-size=\"14.00\" text-anchor=\"middle\" x=\"83\" y=\"-160.8\">dense_5: Dense</text>\n",
       "</g>\n",
       "<!-- 139084800&#45;&gt;135904672 -->\n",
       "<g class=\"edge\" id=\"edge3\"><title>139084800-&gt;135904672</title>\n",
       "<path d=\"M83,-219.313C83,-211.289 83,-201.547 83,-192.569\" fill=\"none\" stroke=\"black\"/>\n",
       "<polygon fill=\"black\" points=\"86.5001,-192.529 83,-182.529 79.5001,-192.529 86.5001,-192.529\" stroke=\"black\"/>\n",
       "</g>\n",
       "<!-- 135902712 -->\n",
       "<g class=\"node\" id=\"node5\"><title>135902712</title>\n",
       "<polygon fill=\"none\" points=\"18,-73.5 18,-109.5 148,-109.5 148,-73.5 18,-73.5\" stroke=\"black\"/>\n",
       "<text font-family=\"Times New Roman,serif\" font-size=\"14.00\" text-anchor=\"middle\" x=\"83\" y=\"-87.8\">dropout_4: Dropout</text>\n",
       "</g>\n",
       "<!-- 135904672&#45;&gt;135902712 -->\n",
       "<g class=\"edge\" id=\"edge4\"><title>135904672-&gt;135902712</title>\n",
       "<path d=\"M83,-146.313C83,-138.289 83,-128.547 83,-119.569\" fill=\"none\" stroke=\"black\"/>\n",
       "<polygon fill=\"black\" points=\"86.5001,-119.529 83,-109.529 79.5001,-119.529 86.5001,-119.529\" stroke=\"black\"/>\n",
       "</g>\n",
       "<!-- 135903552 -->\n",
       "<g class=\"node\" id=\"node6\"><title>135903552</title>\n",
       "<polygon fill=\"none\" points=\"31,-0.5 31,-36.5 135,-36.5 135,-0.5 31,-0.5\" stroke=\"black\"/>\n",
       "<text font-family=\"Times New Roman,serif\" font-size=\"14.00\" text-anchor=\"middle\" x=\"83\" y=\"-14.8\">dense_6: Dense</text>\n",
       "</g>\n",
       "<!-- 135902712&#45;&gt;135903552 -->\n",
       "<g class=\"edge\" id=\"edge5\"><title>135902712-&gt;135903552</title>\n",
       "<path d=\"M83,-73.3129C83,-65.2895 83,-55.5475 83,-46.5691\" fill=\"none\" stroke=\"black\"/>\n",
       "<polygon fill=\"black\" points=\"86.5001,-46.5288 83,-36.5288 79.5001,-46.5289 86.5001,-46.5288\" stroke=\"black\"/>\n",
       "</g>\n",
       "</g>\n",
       "</svg>"
      ],
      "text/plain": [
       "<IPython.core.display.SVG object>"
      ]
     },
     "execution_count": 6,
     "metadata": {},
     "output_type": "execute_result"
    }
   ],
   "source": [
    "from IPython.display import SVG\n",
    "from keras.utils.vis_utils import model_to_dot\n",
    "\n",
    "SVG(model_to_dot(model).create(prog='dot', format='svg'))"
   ]
  },
  {
   "cell_type": "markdown",
   "metadata": {},
   "source": [
    "# VGG-like convnet"
   ]
  },
  {
   "cell_type": "code",
   "execution_count": 20,
   "metadata": {
    "scrolled": false
   },
   "outputs": [],
   "source": [
    "import numpy as np\n",
    "import keras\n",
    "from keras.models import Sequential\n",
    "from keras.layers import Dense, Dropout, Flatten\n",
    "from keras.layers import Conv2D, MaxPooling2D\n",
    "from keras.optimizers import SGD\n",
    "\n",
    "\n",
    "x_train = np.random.random((100, 100, 100, 3))\n",
    "y_train = keras.utils.to_categorical(np.random.randint(10, size=(100, 1)), num_classes=10)\n",
    "x_test = np.random.random((20, 100, 100, 3))\n",
    "y_test = keras.utils.to_categorical(np.random.randint(10, size=(20, 1)), num_classes=10)\n",
    "\n",
    "model = Sequential()\n",
    "# input: 100x100 images with 3 channels -> (100, 100, 3) tensors.\n",
    "# this applies 32 convolution filters of size 3x3 each.\n",
    "model.add(Conv2D(32, (3, 3), activation='relu', input_shape=(100, 100, 3)))\n",
    "model.add(Conv2D(32, (3, 3), activation='relu'))\n",
    "model.add(MaxPooling2D(pool_size=(2, 2)))\n",
    "model.add(Dropout(0.25))\n",
    "\n",
    "model.add(Conv2D(64, (3, 3), activation='relu'))\n",
    "model.add(Conv2D(64, (3, 3), activation='relu'))\n",
    "model.add(MaxPooling2D(pool_size=(2, 2)))\n",
    "model.add(Dropout(0.25))\n",
    "\n",
    "model.add(Flatten())\n",
    "model.add(Dense(256, activation='relu'))\n",
    "model.add(Dropout(0.5))\n",
    "model.add(Dense(10, activation='softmax'))\n",
    "\n",
    "sgd = SGD(lr=0.01, decay=1e-6, momentum=0.9, nesterov=True)\n",
    "model.compile(loss='categorical_crossentropy', optimizer=sgd)\n",
    "\n",
    "from keras.utils import plot_model\n",
    "plot_model(model, to_file='VGG.png',show_shapes=True,show_layer_names=False)"
   ]
  },
  {
   "cell_type": "code",
   "execution_count": null,
   "metadata": {
    "collapsed": true
   },
   "outputs": [],
   "source": [
    "model.fit(x_train, y_train, batch_size=32, epochs=10,verbose=0)\n",
    "score = model.evaluate(x_test, y_test, batch_size=32,verbose=0)\n",
    "print score[1]*100"
   ]
  },
  {
   "cell_type": "markdown",
   "metadata": {
    "collapsed": true
   },
   "source": [
    "# Sequence classification with 1D convolutions"
   ]
  },
  {
   "cell_type": "code",
   "execution_count": 1,
   "metadata": {},
   "outputs": [
    {
     "name": "stderr",
     "output_type": "stream",
     "text": [
      "Using CNTK backend\n",
      "E:\\Anaconda2\\lib\\site-packages\\keras\\backend\\cntk_backend.py:19: UserWarning: CNTK backend warning: GPU is not detected. CNTK's CPU version is not fully optimized,please run with GPU to get better performance.\n",
      "  'CNTK backend warning: GPU is not detected. '\n",
      "E:\\Anaconda2\\lib\\site-packages\\cntk\\core.py:351: UserWarning: your data is of type \"float64\", but your input variable (uid \"Input4\") expects \"<type 'numpy.float32'>\". Please convert your data beforehand to speed up training.\n",
      "  (sample.dtype, var.uid, str(var.dtype)))\n"
     ]
    },
    {
     "name": "stdout",
     "output_type": "stream",
     "text": [
      "[0.6910078644752502, 0.65000000000000002]\n"
     ]
    }
   ],
   "source": [
    "import keras\n",
    "import numpy as np\n",
    "from keras.models import Sequential\n",
    "from keras.layers import Dense, Dropout\n",
    "from keras.layers import Embedding\n",
    "from keras.layers import Conv1D, GlobalAveragePooling1D, MaxPooling1D\n",
    "\n",
    "samplesize = 1000\n",
    "x_train = np.random.random((samplesize, 100, 100))\n",
    "y_train = np.random.randint(2, size=(samplesize, 1))\n",
    "x_test = np.random.random((20, 100, 100))\n",
    "y_test = np.random.randint(2, size=(20, 1))\n",
    "\n",
    "model = Sequential()\n",
    "model.add(Conv1D(64, 3, activation='relu', input_shape=(100, 100)))\n",
    "model.add(Conv1D(64, 3, activation='relu'))\n",
    "model.add(MaxPooling1D(3))\n",
    "model.add(Conv1D(128, 3, activation='relu'))\n",
    "model.add(Conv1D(128, 3, activation='relu'))\n",
    "model.add(GlobalAveragePooling1D())\n",
    "model.add(Dropout(0.5))\n",
    "model.add(Dense(1, activation='sigmoid'))\n",
    "\n",
    "model.compile(loss='binary_crossentropy',\n",
    "              optimizer='rmsprop',\n",
    "              metrics=['accuracy'])\n",
    "\n",
    "model.fit(x_train, y_train, batch_size=16, epochs=10,verbose=0)\n",
    "score = model.evaluate(x_test, y_test, batch_size=16, verbose=0)\n",
    "print score\n",
    "\n",
    "from keras.utils import plot_model\n",
    "plot_model(model, to_file='sc1c.png',show_shapes=True,show_layer_names=False)"
   ]
  },
  {
   "cell_type": "markdown",
   "metadata": {},
   "source": [
    "# Stacked LSTM"
   ]
  },
  {
   "cell_type": "code",
   "execution_count": 2,
   "metadata": {},
   "outputs": [
    {
     "name": "stdout",
     "output_type": "stream",
     "text": [
      "10.0\n"
     ]
    }
   ],
   "source": [
    "import keras\n",
    "from keras.models import Sequential\n",
    "from keras.layers import LSTM, Dense\n",
    "import numpy as np\n",
    "\n",
    "batchsize = 1000\n",
    "data_dim = 16\n",
    "timesteps = 8\n",
    "num_classes = 10\n",
    "\n",
    "x_train = np.random.random((batchsize, timesteps, data_dim)).astype('float32')\n",
    "y_train = keras.utils.to_categorical(np.random.randint(num_classes, size=(batchsize, 1)), num_classes=num_classes).astype('float32')\n",
    "x_test = np.random.random((20, timesteps, data_dim)).astype('float32')\n",
    "y_test = keras.utils.to_categorical(np.random.randint(num_classes, size=(20, 1)), num_classes=num_classes).astype('float32')\n",
    "\n",
    "# expected input data shape: (batch_size, timesteps, data_dim)\n",
    "model = Sequential()\n",
    "model.add(LSTM(32, return_sequences=True,\n",
    "               input_shape=(timesteps, data_dim)))  # returns a sequence of vectors of dimension 32\n",
    "model.add(LSTM(32, return_sequences=True))  # returns a sequence of vectors of dimension 32\n",
    "model.add(LSTM(32))  # return a single vector of dimension 32\n",
    "model.add(Dense(10, activation='softmax'))\n",
    "\n",
    "model.compile(loss='categorical_crossentropy',\n",
    "              optimizer='rmsprop',\n",
    "              metrics=['accuracy'])\n",
    "\n",
    "model.fit(x_train, y_train,\n",
    "          batch_size=64, epochs=5, verbose=0)\n",
    "score = model.evaluate(x_test, y_test, batch_size=16, verbose=0)\n",
    "print score[1]*100"
   ]
  },
  {
   "cell_type": "markdown",
   "metadata": {},
   "source": [
    "# RNN"
   ]
  },
  {
   "cell_type": "code",
   "execution_count": null,
   "metadata": {},
   "outputs": [],
   "source": [
    "from keras.models import Sequential\n",
    "from keras.layers import LSTM, Dense\n",
    "import numpy as np\n",
    "\n",
    "data_dim = 16\n",
    "timesteps = 8\n",
    "num_classes = 10\n",
    "batch_size = 32\n",
    "\n",
    "model = Sequential()\n",
    "model.add(LSTM(32, return_sequences=True, stateful=True,\n",
    "               batch_input_shape=(batch_size, timesteps, data_dim)))\n",
    "model.add(LSTM(32, return_sequences=True, stateful=True))\n",
    "model.add(LSTM(32, stateful=True))\n",
    "model.add(Dense(10, activation='softmax'))\n",
    "\n",
    "model.compile(loss='categorical_crossentropy',\n",
    "              optimizer='rmsprop',\n",
    "              metrics=['accuracy'])\n",
    "\n",
    "# Generate dummy training data\n",
    "x_train = np.random.random((batch_size * 10, timesteps, data_dim))\n",
    "y_train = np.random.random((batch_size * 10, num_classes))\n",
    "\n",
    "# Generate dummy validation data\n",
    "x_val = np.random.random((batch_size * 3, timesteps, data_dim))\n",
    "y_val = np.random.random((batch_size * 3, num_classes))\n",
    "\n",
    "model.fit(x_train, y_train,\n",
    "          batch_size=batch_size, epochs=5, shuffle=False,verbose=1)\n",
    "score = model.evaluate(x_val, y_val, batch_size=16, verbose=0)\n",
    "print score[1]*100"
   ]
  },
  {
   "cell_type": "code",
   "execution_count": 2,
   "metadata": {},
   "outputs": [
    {
     "data": {
      "text/plain": [
       "True"
      ]
     },
     "execution_count": 2,
     "metadata": {},
     "output_type": "execute_result"
    }
   ],
   "source": [
    "import numpy \n",
    "id(numpy.dot) == id(numpy.core.multiarray.dot) "
   ]
  },
  {
   "cell_type": "markdown",
   "metadata": {
    "collapsed": true
   },
   "source": [
    "# Keras API"
   ]
  },
  {
   "cell_type": "code",
   "execution_count": 1,
   "metadata": {},
   "outputs": [
    {
     "name": "stderr",
     "output_type": "stream",
     "text": [
      "Using Theano backend.\n"
     ]
    },
    {
     "name": "stdout",
     "output_type": "stream",
     "text": [
      "_________________________________________________________________\n",
      "Layer (type)                 Output Shape              Param #   \n",
      "=================================================================\n",
      "dense_1 (Dense)              (None, 64)                1344      \n",
      "_________________________________________________________________\n",
      "dropout_1 (Dropout)          (None, 64)                0         \n",
      "_________________________________________________________________\n",
      "dense_2 (Dense)              (None, 64)                4160      \n",
      "_________________________________________________________________\n",
      "dropout_2 (Dropout)          (None, 64)                0         \n",
      "_________________________________________________________________\n",
      "dense_3 (Dense)              (None, 1)                 65        \n",
      "=================================================================\n",
      "Total params: 5,569\n",
      "Trainable params: 5,569\n",
      "Non-trainable params: 0\n",
      "_________________________________________________________________\n"
     ]
    }
   ],
   "source": [
    "import numpy as np\n",
    "from keras.models import Sequential\n",
    "from keras.layers import Dense, Dropout\n",
    "\n",
    "model = Sequential()\n",
    "model.add(Dense(64, input_dim=20, activation='relu'))\n",
    "model.add(Dropout(0.5))\n",
    "model.add(Dense(64, activation='relu'))\n",
    "model.add(Dropout(0.5))\n",
    "model.add(Dense(1, activation='sigmoid'))\n",
    "\n",
    "model.summary()"
   ]
  },
  {
   "cell_type": "code",
   "execution_count": null,
   "metadata": {
    "collapsed": true
   },
   "outputs": [],
   "source": []
  }
 ],
 "metadata": {
  "anaconda-cloud": {},
  "kernelspec": {
   "display_name": "Python 3",
   "language": "python",
   "name": "python3"
  },
  "language_info": {
   "codemirror_mode": {
    "name": "ipython",
    "version": 3
   },
   "file_extension": ".py",
   "mimetype": "text/x-python",
   "name": "python",
   "nbconvert_exporter": "python",
   "pygments_lexer": "ipython3",
   "version": "3.6.3"
  }
 },
 "nbformat": 4,
 "nbformat_minor": 1
}
