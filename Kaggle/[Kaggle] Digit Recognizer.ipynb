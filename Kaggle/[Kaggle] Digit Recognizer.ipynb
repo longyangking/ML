{
 "cells": [
  {
   "cell_type": "code",
   "execution_count": 1,
   "metadata": {},
   "outputs": [
    {
     "name": "stderr",
     "output_type": "stream",
     "text": [
      "/public/anaconda3/lib/python3.6/site-packages/h5py/__init__.py:36: FutureWarning: Conversion of the second argument of issubdtype from `float` to `np.floating` is deprecated. In future, it will be treated as `np.float64 == np.dtype(float).type`.\n",
      "  from ._conv import register_converters as _register_converters\n",
      "Using TensorFlow backend.\n"
     ]
    }
   ],
   "source": [
    "import pandas as pd\n",
    "import numpy as np\n",
    "import matplotlib.pyplot as plt\n",
    "import matplotlib.image as mpimg\n",
    "#import seaborn as sns\n",
    "%matplotlib inline\n",
    "\n",
    "#np.random.seed(2)\n",
    "\n",
    "from sklearn.model_selection import train_test_split\n",
    "from sklearn.metrics import confusion_matrix\n",
    "import itertools\n",
    "\n",
    "from keras.utils.np_utils import to_categorical \n",
    "from keras.models import Model\n",
    "from keras.layers import Dense, Dropout, Flatten, Conv2D, MaxPooling2D, Input\n",
    "from keras.optimizers import RMSprop\n",
    "from keras.preprocessing.image import ImageDataGenerator\n",
    "from keras.callbacks import ReduceLROnPlateau\n",
    "from keras import backend as K\n",
    "\n",
    "import os\n",
    "os.environ['TF_CPP_MIN_LOG_LEVEL'] = '2' \n",
    "\n",
    "\n",
    "#sns.set(style='white', context='notebook', palette='deep')"
   ]
  },
  {
   "cell_type": "code",
   "execution_count": 2,
   "metadata": {},
   "outputs": [],
   "source": [
    "train = pd.read_csv(\"train.csv\")\n",
    "test = pd.read_csv(\"test.csv\")"
   ]
  },
  {
   "cell_type": "code",
   "execution_count": 3,
   "metadata": {},
   "outputs": [],
   "source": [
    "y_train = train['label']\n",
    "X_train = train.drop(labels = [\"label\"],axis = 1) \n",
    "X_train = X_train / 255.0\n",
    "test = test / 255.0\n",
    "X_train = X_train.values.reshape(-1,28,28,1)\n",
    "test = test.values.reshape(-1,28,28,1)\n",
    "y_train = to_categorical(y_train, num_classes = 10)"
   ]
  },
  {
   "cell_type": "code",
   "execution_count": 4,
   "metadata": {},
   "outputs": [],
   "source": [
    "random_seed = 2\n",
    "X_train, X_val, Y_train, Y_val = train_test_split(X_train, y_train, test_size = 0.1, random_state=random_seed)"
   ]
  },
  {
   "cell_type": "code",
   "execution_count": 5,
   "metadata": {},
   "outputs": [
    {
     "data": {
      "text/plain": [
       "(37800, 10)"
      ]
     },
     "execution_count": 5,
     "metadata": {},
     "output_type": "execute_result"
    }
   ],
   "source": [
    "Y_train.shape"
   ]
  },
  {
   "cell_type": "code",
   "execution_count": 6,
   "metadata": {},
   "outputs": [],
   "source": [
    "def build_nn(input_shape, output_shape):\n",
    "    input_tensor = Input(shape=input_shape)\n",
    "    out = Conv2D(filters = 32, kernel_size = (5,5),padding = 'Same', activation ='relu')(input_tensor)\n",
    "    out = Conv2D(filters = 32, kernel_size = (5,5),padding = 'Same', activation ='relu')(out)\n",
    "    out = MaxPooling2D(pool_size=(2,2))(out)\n",
    "    out = Dropout(0.25)(out)\n",
    "    \n",
    "    out = Conv2D(filters = 64, kernel_size = (3,3),padding = 'Same', activation ='relu')(out)\n",
    "    out = Conv2D(filters = 64, kernel_size = (3,3),padding = 'Same', activation ='relu')(out)\n",
    "    out = MaxPooling2D(pool_size=(2,2), strides=(2,2))(out)\n",
    "    out = Dropout(0.25)(out)\n",
    "\n",
    "    out = Flatten()(out)\n",
    "    out = Dense(256, activation = \"relu\")(out)\n",
    "    out = Dropout(0.5)(out)\n",
    "    output_tensor = Dense(output_shape, activation = \"softmax\")(out)\n",
    "    return input_tensor, output_tensor"
   ]
  },
  {
   "cell_type": "code",
   "execution_count": 8,
   "metadata": {},
   "outputs": [
    {
     "name": "stdout",
     "output_type": "stream",
     "text": [
      "_________________________________________________________________\n",
      "Layer (type)                 Output Shape              Param #   \n",
      "=================================================================\n",
      "input_1 (InputLayer)         (None, 28, 28, 1)         0         \n",
      "_________________________________________________________________\n",
      "conv2d_1 (Conv2D)            (None, 28, 28, 32)        832       \n",
      "_________________________________________________________________\n",
      "conv2d_2 (Conv2D)            (None, 28, 28, 32)        25632     \n",
      "_________________________________________________________________\n",
      "max_pooling2d_1 (MaxPooling2 (None, 14, 14, 32)        0         \n",
      "_________________________________________________________________\n",
      "dropout_1 (Dropout)          (None, 14, 14, 32)        0         \n",
      "_________________________________________________________________\n",
      "conv2d_3 (Conv2D)            (None, 14, 14, 64)        18496     \n",
      "_________________________________________________________________\n",
      "conv2d_4 (Conv2D)            (None, 14, 14, 64)        36928     \n",
      "_________________________________________________________________\n",
      "max_pooling2d_2 (MaxPooling2 (None, 7, 7, 64)          0         \n",
      "_________________________________________________________________\n",
      "dropout_2 (Dropout)          (None, 7, 7, 64)          0         \n",
      "_________________________________________________________________\n",
      "flatten_1 (Flatten)          (None, 3136)              0         \n",
      "_________________________________________________________________\n",
      "dense_1 (Dense)              (None, 256)               803072    \n",
      "_________________________________________________________________\n",
      "dropout_3 (Dropout)          (None, 256)               0         \n",
      "_________________________________________________________________\n",
      "dense_2 (Dense)              (None, 10)                2570      \n",
      "=================================================================\n",
      "Total params: 887,530\n",
      "Trainable params: 887,530\n",
      "Non-trainable params: 0\n",
      "_________________________________________________________________\n",
      "None\n"
     ]
    }
   ],
   "source": [
    "input_shape = X_train[0].shape\n",
    "output_shape = 10\n",
    "input_tensor, output_tensor = build_nn(input_shape, output_shape)\n",
    "model = Model(inputs=input_tensor, outputs=output_tensor)\n",
    "\n",
    "optimizer = RMSprop(lr=0.001, rho=0.9, epsilon=1e-08, decay=0.0)\n",
    "model.compile(optimizer = optimizer , loss = \"categorical_crossentropy\", metrics=[\"accuracy\"])\n",
    "learning_rate_reduction = ReduceLROnPlateau(monitor='val_acc', patience=3, verbose=1, factor=0.5, min_lr=0.00001)\n",
    "\n",
    "datagen = ImageDataGenerator(\n",
    "        featurewise_center=False,  # set input mean to 0 over the dataset\n",
    "        samplewise_center=False,  # set each sample mean to 0\n",
    "        featurewise_std_normalization=False,  # divide inputs by std of the dataset\n",
    "        samplewise_std_normalization=False,  # divide each input by its std\n",
    "        zca_whitening=False,  # apply ZCA whitening\n",
    "        rotation_range=10,  # randomly rotate images in the range (degrees, 0 to 180)\n",
    "        zoom_range = 0.1, # Randomly zoom image \n",
    "        width_shift_range=0.1,  # randomly shift images horizontally (fraction of total width)\n",
    "        height_shift_range=0.1,  # randomly shift images vertically (fraction of total height)\n",
    "        horizontal_flip=False,  # randomly flip images\n",
    "        vertical_flip=False)  # randomly flip images\n",
    "datagen.fit(X_train)\n",
    "print(model.summary())"
   ]
  },
  {
   "cell_type": "code",
   "execution_count": 9,
   "metadata": {},
   "outputs": [
    {
     "name": "stdout",
     "output_type": "stream",
     "text": [
      "Train on 37800 samples, validate on 4200 samples\n",
      "Epoch 1/30\n",
      "37800/37800 [==============================] - 7s 186us/step - loss: 0.3768 - acc: 0.8829 - val_loss: 0.0855 - val_acc: 0.9702\n",
      "Epoch 2/30\n",
      "37800/37800 [==============================] - 3s 71us/step - loss: 0.0861 - acc: 0.9736 - val_loss: 0.0603 - val_acc: 0.9810\n",
      "Epoch 3/30\n",
      "37800/37800 [==============================] - 3s 70us/step - loss: 0.0609 - acc: 0.9810 - val_loss: 0.0404 - val_acc: 0.9879\n",
      "Epoch 4/30\n",
      "37800/37800 [==============================] - 3s 71us/step - loss: 0.0497 - acc: 0.9854 - val_loss: 0.0647 - val_acc: 0.9829\n",
      "Epoch 5/30\n",
      "37800/37800 [==============================] - 3s 71us/step - loss: 0.0410 - acc: 0.9875 - val_loss: 0.0565 - val_acc: 0.9852\n",
      "Epoch 6/30\n",
      "37800/37800 [==============================] - 3s 71us/step - loss: 0.0356 - acc: 0.9888 - val_loss: 0.0332 - val_acc: 0.9910\n",
      "Epoch 7/30\n",
      "37800/37800 [==============================] - 3s 71us/step - loss: 0.0296 - acc: 0.9906 - val_loss: 0.0338 - val_acc: 0.9912\n",
      "Epoch 8/30\n",
      "37800/37800 [==============================] - 3s 71us/step - loss: 0.0267 - acc: 0.9918 - val_loss: 0.0341 - val_acc: 0.9912\n",
      "Epoch 9/30\n",
      "37800/37800 [==============================] - 3s 71us/step - loss: 0.0259 - acc: 0.9916 - val_loss: 0.0286 - val_acc: 0.9921\n",
      "Epoch 10/30\n",
      "37800/37800 [==============================] - 3s 71us/step - loss: 0.0237 - acc: 0.9929 - val_loss: 0.0369 - val_acc: 0.9917\n",
      "Epoch 11/30\n",
      "37800/37800 [==============================] - 3s 71us/step - loss: 0.0207 - acc: 0.9932 - val_loss: 0.0399 - val_acc: 0.9919\n",
      "Epoch 12/30\n",
      "37800/37800 [==============================] - 3s 71us/step - loss: 0.0207 - acc: 0.9935 - val_loss: 0.0284 - val_acc: 0.9924\n",
      "Epoch 13/30\n",
      "37800/37800 [==============================] - 3s 71us/step - loss: 0.0191 - acc: 0.9940 - val_loss: 0.0295 - val_acc: 0.9936\n",
      "Epoch 14/30\n",
      "37800/37800 [==============================] - 3s 72us/step - loss: 0.0165 - acc: 0.9948 - val_loss: 0.0324 - val_acc: 0.9936\n",
      "Epoch 15/30\n",
      "37800/37800 [==============================] - 3s 71us/step - loss: 0.0160 - acc: 0.9950 - val_loss: 0.0387 - val_acc: 0.9919\n",
      "Epoch 16/30\n",
      "37800/37800 [==============================] - 3s 71us/step - loss: 0.0153 - acc: 0.9950 - val_loss: 0.0318 - val_acc: 0.9921\n",
      "Epoch 17/30\n",
      "37800/37800 [==============================] - 3s 71us/step - loss: 0.0139 - acc: 0.9957 - val_loss: 0.0333 - val_acc: 0.9929\n",
      "Epoch 18/30\n",
      "37800/37800 [==============================] - 3s 71us/step - loss: 0.0139 - acc: 0.9955 - val_loss: 0.0268 - val_acc: 0.9943\n",
      "Epoch 19/30\n",
      "37800/37800 [==============================] - 3s 71us/step - loss: 0.0140 - acc: 0.9955 - val_loss: 0.0344 - val_acc: 0.9924\n",
      "Epoch 20/30\n",
      "37800/37800 [==============================] - 3s 71us/step - loss: 0.0140 - acc: 0.9956 - val_loss: 0.0330 - val_acc: 0.9943\n",
      "Epoch 21/30\n",
      "37800/37800 [==============================] - 3s 71us/step - loss: 0.0137 - acc: 0.9961 - val_loss: 0.0352 - val_acc: 0.9933\n",
      "Epoch 22/30\n",
      "37800/37800 [==============================] - 3s 71us/step - loss: 0.0125 - acc: 0.9957 - val_loss: 0.0412 - val_acc: 0.9921\n",
      "Epoch 23/30\n",
      "37800/37800 [==============================] - 3s 71us/step - loss: 0.0126 - acc: 0.9961 - val_loss: 0.0284 - val_acc: 0.9926\n",
      "Epoch 24/30\n",
      "37800/37800 [==============================] - 3s 71us/step - loss: 0.0115 - acc: 0.9964 - val_loss: 0.0298 - val_acc: 0.9936\n",
      "Epoch 25/30\n",
      "37800/37800 [==============================] - 3s 71us/step - loss: 0.0101 - acc: 0.9965 - val_loss: 0.0324 - val_acc: 0.9943\n",
      "Epoch 26/30\n",
      "37800/37800 [==============================] - 3s 71us/step - loss: 0.0126 - acc: 0.9962 - val_loss: 0.0403 - val_acc: 0.9926\n",
      "Epoch 27/30\n",
      "37800/37800 [==============================] - 3s 71us/step - loss: 0.0106 - acc: 0.9970 - val_loss: 0.0280 - val_acc: 0.9948\n",
      "Epoch 28/30\n",
      "37800/37800 [==============================] - 3s 71us/step - loss: 0.0105 - acc: 0.9967 - val_loss: 0.0334 - val_acc: 0.9938\n",
      "Epoch 29/30\n",
      "37800/37800 [==============================] - 3s 71us/step - loss: 0.0119 - acc: 0.9967 - val_loss: 0.0272 - val_acc: 0.9936\n",
      "Epoch 30/30\n",
      "37800/37800 [==============================] - 3s 71us/step - loss: 0.0104 - acc: 0.9968 - val_loss: 0.0363 - val_acc: 0.9943\n"
     ]
    }
   ],
   "source": [
    "history = model.fit(X_train, Y_train, epochs=30, batch_size=256, validation_data=(X_val, Y_val))"
   ]
  },
  {
   "cell_type": "code",
   "execution_count": 12,
   "metadata": {},
   "outputs": [
    {
     "name": "stdout",
     "output_type": "stream",
     "text": [
      "Epoch 1/30\n",
      " - 7s - loss: 0.0835 - acc: 0.9769 - val_loss: 0.0231 - val_acc: 0.9921\n",
      "Epoch 2/30\n",
      " - 6s - loss: 0.0705 - acc: 0.9806 - val_loss: 0.0253 - val_acc: 0.9931\n",
      "Epoch 3/30\n",
      " - 6s - loss: 0.0632 - acc: 0.9823 - val_loss: 0.0405 - val_acc: 0.9929\n",
      "Epoch 4/30\n",
      " - 6s - loss: 0.0631 - acc: 0.9832 - val_loss: 0.0381 - val_acc: 0.9905\n",
      "Epoch 5/30\n",
      " - 7s - loss: 0.0621 - acc: 0.9824 - val_loss: 0.0372 - val_acc: 0.9910\n",
      "Epoch 6/30\n",
      " - 7s - loss: 0.0632 - acc: 0.9833 - val_loss: 0.0284 - val_acc: 0.9924\n",
      "\n",
      "Epoch 00006: ReduceLROnPlateau reducing learning rate to 0.0005000000237487257.\n",
      "Epoch 7/30\n",
      " - 6s - loss: 0.0495 - acc: 0.9867 - val_loss: 0.0259 - val_acc: 0.9938\n",
      "Epoch 8/30\n",
      " - 7s - loss: 0.0457 - acc: 0.9870 - val_loss: 0.0244 - val_acc: 0.9940\n",
      "Epoch 9/30\n",
      " - 7s - loss: 0.0449 - acc: 0.9883 - val_loss: 0.0249 - val_acc: 0.9936\n",
      "Epoch 10/30\n",
      " - 6s - loss: 0.0471 - acc: 0.9876 - val_loss: 0.0233 - val_acc: 0.9943\n",
      "Epoch 11/30\n",
      " - 6s - loss: 0.0465 - acc: 0.9878 - val_loss: 0.0271 - val_acc: 0.9924\n",
      "Epoch 12/30\n",
      " - 6s - loss: 0.0441 - acc: 0.9878 - val_loss: 0.0221 - val_acc: 0.9940\n",
      "Epoch 13/30\n",
      " - 6s - loss: 0.0419 - acc: 0.9881 - val_loss: 0.0297 - val_acc: 0.9936\n",
      "Epoch 14/30\n",
      " - 6s - loss: 0.0438 - acc: 0.9882 - val_loss: 0.0282 - val_acc: 0.9929\n",
      "\n",
      "Epoch 00014: ReduceLROnPlateau reducing learning rate to 0.0002500000118743628.\n",
      "Epoch 15/30\n",
      " - 6s - loss: 0.0379 - acc: 0.9893 - val_loss: 0.0234 - val_acc: 0.9948\n",
      "Epoch 16/30\n",
      " - 7s - loss: 0.0374 - acc: 0.9896 - val_loss: 0.0244 - val_acc: 0.9948\n",
      "Epoch 17/30\n",
      " - 7s - loss: 0.0345 - acc: 0.9902 - val_loss: 0.0197 - val_acc: 0.9957\n",
      "Epoch 18/30\n",
      " - 6s - loss: 0.0393 - acc: 0.9892 - val_loss: 0.0231 - val_acc: 0.9945\n",
      "Epoch 19/30\n",
      " - 6s - loss: 0.0341 - acc: 0.9901 - val_loss: 0.0227 - val_acc: 0.9950\n",
      "Epoch 20/30\n",
      " - 6s - loss: 0.0357 - acc: 0.9900 - val_loss: 0.0220 - val_acc: 0.9950\n",
      "Epoch 21/30\n",
      " - 6s - loss: 0.0369 - acc: 0.9899 - val_loss: 0.0200 - val_acc: 0.9955\n",
      "\n",
      "Epoch 00021: ReduceLROnPlateau reducing learning rate to 0.0001250000059371814.\n",
      "Epoch 22/30\n",
      " - 6s - loss: 0.0317 - acc: 0.9914 - val_loss: 0.0209 - val_acc: 0.9957\n",
      "Epoch 23/30\n",
      " - 6s - loss: 0.0376 - acc: 0.9902 - val_loss: 0.0214 - val_acc: 0.9948\n",
      "Epoch 24/30\n",
      " - 6s - loss: 0.0326 - acc: 0.9910 - val_loss: 0.0224 - val_acc: 0.9943\n",
      "\n",
      "Epoch 00024: ReduceLROnPlateau reducing learning rate to 6.25000029685907e-05.\n",
      "Epoch 25/30\n",
      " - 6s - loss: 0.0310 - acc: 0.9910 - val_loss: 0.0212 - val_acc: 0.9943\n",
      "Epoch 26/30\n",
      " - 7s - loss: 0.0281 - acc: 0.9918 - val_loss: 0.0217 - val_acc: 0.9950\n",
      "Epoch 27/30\n",
      " - 7s - loss: 0.0325 - acc: 0.9915 - val_loss: 0.0203 - val_acc: 0.9955\n",
      "\n",
      "Epoch 00027: ReduceLROnPlateau reducing learning rate to 3.125000148429535e-05.\n",
      "Epoch 28/30\n",
      " - 6s - loss: 0.0301 - acc: 0.9915 - val_loss: 0.0192 - val_acc: 0.9952\n",
      "Epoch 29/30\n",
      " - 7s - loss: 0.0296 - acc: 0.9918 - val_loss: 0.0198 - val_acc: 0.9950\n",
      "Epoch 30/30\n",
      " - 6s - loss: 0.0278 - acc: 0.9921 - val_loss: 0.0198 - val_acc: 0.9950\n",
      "\n",
      "Epoch 00030: ReduceLROnPlateau reducing learning rate to 1.5625000742147677e-05.\n"
     ]
    }
   ],
   "source": [
    "epochs = 30\n",
    "batch_size = 128\n",
    "history = model.fit_generator(datagen.flow(X_train,Y_train, batch_size=batch_size),\n",
    "                              epochs = epochs, validation_data = (X_val,Y_val),\n",
    "                              verbose = 2, steps_per_epoch=X_train.shape[0] // batch_size\n",
    "                              , callbacks=[learning_rate_reduction])"
   ]
  },
  {
   "cell_type": "markdown",
   "metadata": {},
   "source": [
    "# Evaluate"
   ]
  },
  {
   "cell_type": "code",
   "execution_count": null,
   "metadata": {},
   "outputs": [],
   "source": []
  },
  {
   "cell_type": "markdown",
   "metadata": {},
   "source": [
    "# Predict"
   ]
  },
  {
   "cell_type": "code",
   "execution_count": 10,
   "metadata": {},
   "outputs": [],
   "source": [
    "results = model.predict(test)\n",
    "results = np.argmax(results,axis = 1)\n",
    "results = pd.Series(results,name=\"Label\")\n",
    "submission = pd.concat([pd.Series(range(1,28001),name = \"ImageId\"),results],axis = 1)\n",
    "submission.to_csv(\"submissions.csv\",index=False)"
   ]
  },
  {
   "cell_type": "code",
   "execution_count": null,
   "metadata": {},
   "outputs": [],
   "source": []
  }
 ],
 "metadata": {
  "kernelspec": {
   "display_name": "Python 3",
   "language": "python",
   "name": "python3"
  },
  "language_info": {
   "codemirror_mode": {
    "name": "ipython",
    "version": 3
   },
   "file_extension": ".py",
   "mimetype": "text/x-python",
   "name": "python",
   "nbconvert_exporter": "python",
   "pygments_lexer": "ipython3",
   "version": "3.6.4"
  }
 },
 "nbformat": 4,
 "nbformat_minor": 2
}
