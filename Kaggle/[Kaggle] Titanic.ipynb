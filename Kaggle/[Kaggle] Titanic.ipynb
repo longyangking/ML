{
 "cells": [
  {
   "cell_type": "code",
   "execution_count": 21,
   "metadata": {},
   "outputs": [],
   "source": [
    "import numpy as np\n",
    "import pandas as pd\n",
    "\n",
    "train_data = pd.read_csv('./titanic/train.csv')\n",
    "test_data = pd.read_csv('./titanic/test.csv')"
   ]
  },
  {
   "cell_type": "markdown",
   "metadata": {},
   "source": [
    "# Clearn Null Data"
   ]
  },
  {
   "cell_type": "code",
   "execution_count": 30,
   "metadata": {},
   "outputs": [],
   "source": [
    "train_data['Age'].astype(np.float64)\n",
    "train_data['Gender'] = train_data['Sex'].map({'female':0, 'male':1}).astype(int)\n",
    "\n",
    "median_ages = np.zeros((2,3))\n",
    "for i in range(2):\n",
    "    for j in range(3):\n",
    "        median_ages[i,j] = train_data[\n",
    "            (train_data['Gender']==i)&(train_data['Pclass']==j+1)\n",
    "        ]['Age'].dropna().median()\n",
    "        \n",
    "train_data['AgeFill'] = train_data['Age']\n",
    "for i in range(2):\n",
    "    for j in range(3):\n",
    "        train_data.loc[\n",
    "            (train_data.Age.isnull())&(train_data['Gender']==i)&(train_data['Pclass']==j+1),'AgeFill'\n",
    "        ] = median_ages[i,j]\n",
    "train_data['AgeIsNull'] = pd.isnull(train_data.Age).astype(int)"
   ]
  },
  {
   "cell_type": "markdown",
   "metadata": {},
   "source": [
    "# Feature Engineering"
   ]
  },
  {
   "cell_type": "code",
   "execution_count": 31,
   "metadata": {},
   "outputs": [],
   "source": [
    "train_data['FamilySize'] = train_data['SibSp'] + train_data['Parch']\n",
    "train_data['Age*class'] = train_data['AgeFill'] * train_data['Pclass']"
   ]
  },
  {
   "cell_type": "markdown",
   "metadata": {},
   "source": [
    "# Drop redundant feature"
   ]
  },
  {
   "cell_type": "code",
   "execution_count": 37,
   "metadata": {},
   "outputs": [],
   "source": [
    "train_data = train_data.drop(['PassengerId','Name','Sex','Ticket','Cabin','Embarked'],axis=1)\n",
    "train_data = train_data.drop(['Age'],axis=1)"
   ]
  },
  {
   "cell_type": "markdown",
   "metadata": {},
   "source": [
    "# Test Data Preparation"
   ]
  },
  {
   "cell_type": "code",
   "execution_count": 33,
   "metadata": {},
   "outputs": [],
   "source": [
    "test_data['Gender'] = test_data['Sex'].map( {'female': 0, 'male': 1} ).astype(int)\n",
    "\n",
    "median_ages = np.zeros((2,3))\n",
    "for i in range(0, 2):\n",
    "    for j in range(0, 3):\n",
    "        median_ages[i,j] = test_data[(test_data['Gender'] == i) & \\\n",
    "                              (test_data['Pclass'] == j+1)]['Age'].dropna().median()\n",
    "test_data['AgeFill'] = test_data['Age']\n",
    "for i in range(0, 2):\n",
    "    for j in range(0, 3):\n",
    "        test_data.loc[ (test_data.Age.isnull()) & (test_data.Gender == i) & (test_data.Pclass == j+1),\\\n",
    "                'AgeFill'] = median_ages[i,j]\n",
    "\n",
    "test_data['AgeIsNull'] = pd.isnull(test_data.Age).astype(int)\n",
    "\n",
    "test_data['FamilySize'] = test_data['SibSp'] + test_data['Parch']\n",
    "test_data['Age*Class'] = test_data.AgeFill * test_data.Pclass\n",
    "\n",
    "test_data = test_data.drop(['PassengerId','Name', 'Sex', 'Ticket', 'Cabin', 'Embarked'], axis=1)\n",
    "test_data = test_data.drop(['Age'], axis=1)\n",
    "\n",
    "faremedian = test_data['Fare'].dropna().median()\n",
    "test_data.loc[test_data.Fare.isnull(),'Fare'] = faremedian"
   ]
  },
  {
   "cell_type": "markdown",
   "metadata": {},
   "source": [
    "# Random Forest"
   ]
  },
  {
   "cell_type": "code",
   "execution_count": 44,
   "metadata": {},
   "outputs": [],
   "source": [
    "X_train = train_data.values\n",
    "X_train, y_train = X_train[:,1:], X_train[:,0]\n",
    "X_test = test_data.values"
   ]
  },
  {
   "cell_type": "code",
   "execution_count": 47,
   "metadata": {},
   "outputs": [],
   "source": [
    "from sklearn.ensemble import RandomForestClassifier\n",
    "forest = RandomForestClassifier(n_estimators=100).fit(X_train,y_train)\n",
    "y_pred = forest.predict(X_test)"
   ]
  },
  {
   "cell_type": "markdown",
   "metadata": {},
   "source": [
    "# Save as CSV"
   ]
  },
  {
   "cell_type": "code",
   "execution_count": 80,
   "metadata": {},
   "outputs": [],
   "source": [
    "result = pd.read_csv('./titanic/gender_submission.csv')\n",
    "result['Survived'] = y_pred.astype(int)\n",
    "result.to_csv('./titanic/submissions.csv',index=False)"
   ]
  },
  {
   "cell_type": "code",
   "execution_count": null,
   "metadata": {},
   "outputs": [],
   "source": []
  }
 ],
 "metadata": {
  "kernelspec": {
   "display_name": "Python 3",
   "language": "python",
   "name": "python3"
  },
  "language_info": {
   "codemirror_mode": {
    "name": "ipython",
    "version": 3
   },
   "file_extension": ".py",
   "mimetype": "text/x-python",
   "name": "python",
   "nbconvert_exporter": "python",
   "pygments_lexer": "ipython3",
   "version": "3.6.4"
  }
 },
 "nbformat": 4,
 "nbformat_minor": 2
}
