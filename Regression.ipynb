{
 "cells": [
  {
   "cell_type": "markdown",
   "metadata": {},
   "source": [
    "# Regressions\n",
    "> Author: Yang Long  \n",
    "> Email:  longyang_123@yeah.net\n",
    "\n",
    "+ Linear Regression\n",
    "+ Logistic Regression\n",
    "+ Softmax Regression\n",
    "+ Regularization\n",
    "+ Optimization Objective"
   ]
  },
  {
   "cell_type": "markdown",
   "metadata": {},
   "source": [
    "# Linear Regression\n",
    "The most common form of linear regression can be written as:\n",
    "\n",
    "$$ y = \\theta X $$\n",
    "\n",
    "which tell us that the value of $y$ is determined by the linear combination of components of $X$. But in the mind, the vector $X$ not only contains the all features ${x_i}$, but also contains the bias $x_0$. \n",
    "In some case, this linear regression can fit and predict the value of $y$ well, but unfortunately, it doesn't often behave as our wish. So for describing the bias between the practical value and analytical one, we define Cost Function __J__:\n",
    "\n",
    "$$J = \\frac{1}{m} \\sum_{i=1}^{m} (\\theta X^{(i)} - y^{(i)})^2 $$\n",
    "\n",
    "Best value for parameters $\\theta$ can minimize the cost function. "
   ]
  },
  {
   "cell_type": "markdown",
   "metadata": {},
   "source": [
    "# Logistic Regression\n",
    "The common form:\n",
    "$$ y = h_{\\theta}(X) $$\n",
    "$$ h_{\\theta}(X) = g(\\theta X) $$\n",
    "The sigmoid function:\n",
    "$$ g(z) = \\frac {1} {1+e^{-z}}$$\n",
    "\n",
    "The cost function __J__ for logistic regression would be described by _Cross-Entropy_ as the following form:\n",
    "$$J = \\frac{1}{m} \\sum_{i=1}^{m} -y^{(i)}log(h_{\\theta}(X^{(i)})) - (1-y^{(i)})log(1-h_{\\theta}(X^{(i)}))$$"
   ]
  },
  {
   "cell_type": "markdown",
   "metadata": {},
   "source": [
    "# Softmax Regression"
   ]
  },
  {
   "cell_type": "markdown",
   "metadata": {},
   "source": [
    "$$p(y^{(i)}=j|x^{(i)};\\theta)=\\frac{e^{\\theta^T_j x^{(i)}}} {\\sum_{l=1}^{k} {\\theta^T_l x^{(i)}}}$$\n",
    "\n",
    "$$J(\\theta) = -\\frac{1}{m}(\\sum_{i=1}^{m} \\sum_{j=1}^{k}1\\{y^{(i)}=j\\} log\\frac{e^{\\theta^T_j x^{(i)}}} {\\sum_{l=1}^{k} {\\theta^T_l x^{(i)}}})+\\frac {\\lambda}{2} \\sum_{i=1}^{m} \\sum_{j=0}^{k} \\theta_{ij}^2$$"
   ]
  },
  {
   "cell_type": "markdown",
   "metadata": {},
   "source": [
    "# Fitting Error\n",
    "As we know, simple linear regression can not fit some specific function very well, especially for regular function, i.e. $sin(x)$. So we will add or extract more features to minimize the difference between fitting one and practical one."
   ]
  },
  {
   "cell_type": "markdown",
   "metadata": {},
   "source": [
    "## Overfitting and underfitting\n",
    "Two kinds of errors frequently happen when fitting the training data -- Overfit and Underfit."
   ]
  },
  {
   "cell_type": "markdown",
   "metadata": {},
   "source": [
    "### Overfitting"
   ]
  },
  {
   "cell_type": "code",
   "execution_count": 14,
   "metadata": {
    "collapsed": false
   },
   "outputs": [
    {
     "data": {
      "image/png": "[encoded data removed]",
      "text/plain": [
       "<matplotlib.figure.Figure at 0x7f00d5a94350>"
      ]
     },
     "metadata": {},
     "output_type": "display_data"
    }
   ],
   "source": [
    "%matplotlib inline\n",
    "import matplotlib.pyplot as plt\n",
    "import numpy as np\n",
    "import math\n",
    "x = np.linspace(0,4*math.pi,100)\n",
    "y = map(math.sin,x)\n",
    "plt.plot(x,y)\n",
    "plt.plot(x,y,'o')\n",
    "plt.show()"
   ]
  },
  {
   "cell_type": "markdown",
   "metadata": {},
   "source": [
    "### Underfitting"
   ]
  },
  {
   "cell_type": "code",
   "execution_count": 15,
   "metadata": {
    "collapsed": false
   },
   "outputs": [
    {
     "data": {
      "image/png": "[encoded data removed]",
      "text/plain": [
       "<matplotlib.figure.Figure at 0x7f00d7c580d0>"
      ]
     },
     "metadata": {},
     "output_type": "display_data"
    }
   ],
   "source": [
    "import matplotlib.pyplot as plt\n",
    "import numpy as np\n",
    "import math\n",
    "x = np.linspace(0,4*math.pi,100)\n",
    "y = map(math.sin,x)\n",
    "plt.plot(x,y)\n",
    "plt.plot(x,y,'o')\n",
    "plt.show()"
   ]
  },
  {
   "cell_type": "markdown",
   "metadata": {},
   "source": [
    "### Bias and Variance"
   ]
  },
  {
   "cell_type": "markdown",
   "metadata": {},
   "source": [
    "## Polynomial Features"
   ]
  },
  {
   "cell_type": "markdown",
   "metadata": {},
   "source": [
    "The main property of polynomial features is to use complex polynomial combination to represent the regression form, which will take the high order part into account.\n",
    "$$ h_{\\theta}(x) = \\theta_0 + \\theta_1 x_1 + \\theta_2 x_2 + \\theta_3 x_1^2 + \\theta_4 x_2^2 + \\theta_5 x_1 x_2 + \\theta_6 x_1^2 x_2 + ... $$\n",
    "\n",
    "But unfortunately, this process will also take some cost problems, etc, overfitting."
   ]
  },
  {
   "cell_type": "markdown",
   "metadata": {},
   "source": [
    "## Regularization\n",
    "For avoiding overfitting, to use regularization is a good way to achieve this purpose."
   ]
  },
  {
   "cell_type": "markdown",
   "metadata": {},
   "source": [
    "### Linear Regression\n",
    "The cost function will be written as:\n",
    "$$J = \\frac{1}{m} \\sum_{i=1}^{m} (\\theta X^{(i)} - y^{(i)})^2 + \\frac{\\lambda}{2} \\sum_{i=1}^{n} \\theta_{i}^2 $$\n",
    "\n",
    "But there're something needed to be mentioned, the sum of $\\theta$ does __NOT__ contain the bias one $\\theta_0$ of ${\\theta_i}$."
   ]
  },
  {
   "cell_type": "markdown",
   "metadata": {},
   "source": [
    "### Losgistic Regression\n",
    "The cost function will be written as:\n",
    "$$J = \\frac{1}{m} \\sum_{i=1}^{m} -y^{(i)}log(h_{\\theta}(X^{(i)})) - (1-y^{(i)})log(1-h_{\\theta}(X^{(i)})) + \\frac{\\lambda}{2} \\sum_{i=1}^{n} \\theta_{i}^2$$\n",
    "\n",
    "But there're something needed to be mentioned, the sum of $\\theta$ does __NOT__ contain the bias one $\\theta_0$ of ${\\theta_i}$."
   ]
  },
  {
   "cell_type": "markdown",
   "metadata": {},
   "source": [
    "# Optimization Objective"
   ]
  },
  {
   "cell_type": "markdown",
   "metadata": {},
   "source": [
    "## Mean Scale\n",
    "For samples ${X^{(i)}}$, the average of samples:\n",
    "$$ \\mu_j = \\frac{1}{m} \\sum_{i=1}^{m} X^{(i)}_j $$\n",
    "\n",
    "The variance:\n",
    "$$ \\sigma^2_j = \\frac{1}{m} \\sum_{i=1}^{m} (X^{(i)}_j-\\mu_j)^2$$\n",
    "where the $\\sigma$ represents the standard variance.\n",
    "\n",
    "The process of Mean Scale:\n",
    "$$ X^{(i)}_j \\leftarrow \\frac {X^{(i)}_j-\\mu_j} {\\sigma_j} $$"
   ]
  },
  {
   "cell_type": "markdown",
   "metadata": {},
   "source": [
    "## Gradient Descent"
   ]
  },
  {
   "cell_type": "markdown",
   "metadata": {},
   "source": [
    "For cost function with regularization, we have\n",
    "$$J = \\frac{1}{m} \\sum_{i=1}^{m} (\\theta X^{(i)} - y^{(i)})^2 + \\frac{\\lambda}{2} \\sum_{i=1}^{n} \\theta_{i}^2 $$\n",
    "We can get the derivative partial part of cost function as the form:\n",
    "$$ \\frac {\\partial J} {\\partial \\theta_j} = \\frac{2}{m} \\sum_{i=1}^{m} (X_j^{(i)}-\\mu_j)X_j^{(i)} + \\lambda \\theta_j$$\n",
    "Notice that $\\theta_0$ doesn't take in account.\n",
    "\n",
    "For gaussian gradient descent algorithm, we have:\n",
    "$$\\theta_j = \\theta_j - \\alpha \\frac {\\partial J} {\\partial \\theta_j}$$\n",
    "where $\\alpha$ is the learning rate."
   ]
  }
 ],
 "metadata": {
  "kernelspec": {
   "display_name": "Python 2",
   "language": "python",
   "name": "python2"
  },
  "language_info": {
   "codemirror_mode": {
    "name": "ipython",
    "version": 2
   },
   "file_extension": ".py",
   "mimetype": "text/x-python",
   "name": "python",
   "nbconvert_exporter": "python",
   "pygments_lexer": "ipython2",
   "version": "2.7.10"
  }
 },
 "nbformat": 4,
 "nbformat_minor": 0
}
