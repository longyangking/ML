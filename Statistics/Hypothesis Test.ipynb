{
 "cells": [
  {
   "cell_type": "markdown",
   "metadata": {},
   "source": [
    "# Hypothesis Test\n",
    "+ $\\chi^2$ test\n",
    "+ OR test\n",
    "+ LD test\n",
    "+ Bhattacharyya distance\n",
    "+ Fisher product test\n",
    "+ Multiple Testing Problem"
   ]
  },
  {
   "cell_type": "markdown",
   "metadata": {},
   "source": [
    "# Hypothesis\n",
    "+ Choose sub-sample set randomly\n",
    "+ Test hypothesis $H_0$"
   ]
  },
  {
   "cell_type": "markdown",
   "metadata": {
    "collapsed": true
   },
   "source": [
    "# $\\chi^2$ Test"
   ]
  },
  {
   "cell_type": "markdown",
   "metadata": {},
   "source": [
    "For ${X_1,X_2,...,X_n}$ are independent random variables with the normal distribution $X_i \\sim N(0,1)$,\n",
    "$$ Y = \\sum_{i=1}^{n} X_i^2 \\sim \\chi^2(n) $$"
   ]
  },
  {
   "cell_type": "markdown",
   "metadata": {},
   "source": [
    "For a allel sample\n",
    "$$ \\sum_{i=1}^{M} \\sum_{j=1}^{N} \\frac {(O_{ij}-E_{ij})^2} {E_{ij}} \\sim \\chi^2_p((M-1)(N-1))$$\n",
    "where $p=1-\\alpha$, $M$ means type, $N$ means the individual amount of specific type。 $p$ will determine the level of relationship between specific type and final result."
   ]
  },
  {
   "cell_type": "markdown",
   "metadata": {},
   "source": [
    "Bonferroni correction"
   ]
  },
  {
   "cell_type": "markdown",
   "metadata": {},
   "source": [
    "# OR Test"
   ]
  },
  {
   "cell_type": "markdown",
   "metadata": {},
   "source": [
    "For allel, there are two types ${A,T}$, we have ill samples $n_A$ with $A$, $n_T$ with $T$, healthy samples $m_A$ with $A$, $m_T$ with $T$, we have OR:\n",
    "$$ OR = \\frac {n_A} {m_A} / \\frac {n_T} {m_T} = \\frac {n_A m_T} {n_T m_A} $$\n",
    "$ OR > 1$ means $A$ make bigger influence, while $OR < 1$ means $A$ make less influence.\n",
    "\n",
    "$$ OR' = max(OR,\\frac{1}{OR}) $$\n",
    "means the level of relationship among allel and phenotype"
   ]
  },
  {
   "cell_type": "markdown",
   "metadata": {},
   "source": [
    "# Bhattacharyya distance"
   ]
  },
  {
   "cell_type": "markdown",
   "metadata": {},
   "source": [
    "$$ B = \\frac{1}{4} \\frac{(\\mu_1-\\mu_2)^2}{\\sigma_1^2+\\sigma_2^2}+\\frac{1}{2} ln\\left(\\frac {\\sigma_1^2+\\sigma_2^2}{2\\sigma_1\\sigma_2}\\right)^2 $$"
   ]
  },
  {
   "cell_type": "markdown",
   "metadata": {},
   "source": [
    "# Linkage disequilibrium (LD)"
   ]
  },
  {
   "cell_type": "markdown",
   "metadata": {},
   "source": [
    "If $A$ and $B$ are independent random variables with frequency $f(A)$ and $f(B)$, we will have:\n",
    "$$ f(A,B) = f(A)f(B) $$"
   ]
  },
  {
   "cell_type": "markdown",
   "metadata": {},
   "source": [
    "If $A$ and $B$ are linked, so we will have:\n",
    "$$ f(A,B) = f(A)f(B) + LD $$\n",
    "meanwhile, $f(A|B) \\ne f(A)$."
   ]
  },
  {
   "cell_type": "markdown",
   "metadata": {},
   "source": [
    "The relevant coefficient:\n",
    "$$ r^2 = \\frac {LD^2} {f(A)f(a)f(B)f(b)} $$\n",
    "Strong LD when $r^2$ is high"
   ]
  },
  {
   "cell_type": "markdown",
   "metadata": {},
   "source": [
    "# Fisher's Product Test"
   ]
  },
  {
   "cell_type": "markdown",
   "metadata": {},
   "source": [
    "The $p$ value of all SNPs of gene, ${p_i}$, we will have:\n",
    "$$ X = -2 ln\\left(\\prod_{i=1}^{n} p_i\\right) = -2 \\sum_{i=1}^{n} ln(p_i) \\sim \\chi^2(2n) $$"
   ]
  },
  {
   "cell_type": "code",
   "execution_count": null,
   "metadata": {
    "collapsed": true
   },
   "outputs": [],
   "source": []
  }
 ],
 "metadata": {
  "anaconda-cloud": {},
  "kernelspec": {
   "display_name": "Python [default]",
   "language": "python",
   "name": "python2"
  },
  "language_info": {
   "codemirror_mode": {
    "name": "ipython",
    "version": 2
   },
   "file_extension": ".py",
   "mimetype": "text/x-python",
   "name": "python",
   "nbconvert_exporter": "python",
   "pygments_lexer": "ipython2",
   "version": "2.7.12"
  }
 },
 "nbformat": 4,
 "nbformat_minor": 0
}
