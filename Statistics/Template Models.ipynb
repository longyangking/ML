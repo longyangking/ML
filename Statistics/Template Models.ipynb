{
 "cells": [
  {
   "cell_type": "markdown",
   "metadata": {},
   "source": [
    "# Template Models\n",
    "+ Languages that specify how variables inherit dependency model from template\n",
    "+ Dynamic Bayesian Networks\n",
    "+ Object-relational models\n",
    "    + Directed\n",
    "        + Plate Models\n",
    "    + Undirected"
   ]
  },
  {
   "cell_type": "markdown",
   "metadata": {},
   "source": [
    "# Temporal Models\n",
    "+ Time granularity\n",
    "+ Markov Assumption\n",
    "    $$ P(X^{0:T}) = P(X^{(0)}) \\prod_{t=0}^{T-1} P(X^{(t+1)}|X^{(0:t)}) $$\n",
    "    If $(X^{(t+1)} \\bot X^{(0:t-1)}|X^{(t)})$\n",
    "    $$ P(X^{0:T}) = P(X^{(0)}) \\prod_{t=0}^{T-1} P(X^{(t+1)}|X^{(t)}) $$\n",
    "\n",
    "+ Semi-Markov Model\n",
    "+ Time Invariance\n",
    "+ Template Transition Model\n",
    "    + Initial State Distribution\n",
    "+ 2-Time-Slice Bayesian Network\n",
    "+ Ground Network"
   ]
  },
  {
   "cell_type": "markdown",
   "metadata": {},
   "source": [
    "# Dynamic Bayesian Networks (DBNS)\n",
    "+ DBNS are a compact representation for encoding structured distributions over arbitrarily long temporal trajectories\n",
    "+ They make assumptions that may require appropriate model (re)design:\n",
    "    + Markov assumption\n",
    "    + Time invariance"
   ]
  },
  {
   "cell_type": "code",
   "execution_count": null,
   "metadata": {
    "collapsed": true
   },
   "outputs": [],
   "source": []
  }
 ],
 "metadata": {
  "anaconda-cloud": {},
  "kernelspec": {
   "display_name": "Python [Root]",
   "language": "python",
   "name": "Python [Root]"
  },
  "language_info": {
   "codemirror_mode": {
    "name": "ipython",
    "version": 2
   },
   "file_extension": ".py",
   "mimetype": "text/x-python",
   "name": "python",
   "nbconvert_exporter": "python",
   "pygments_lexer": "ipython2",
   "version": "2.7.12"
  }
 },
 "nbformat": 4,
 "nbformat_minor": 0
}
