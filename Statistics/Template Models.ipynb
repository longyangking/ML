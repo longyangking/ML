{
 "cells": [
  {
   "cell_type": "markdown",
   "metadata": {},
   "source": [
    "# Template Models\n",
    "+ Languages that specify how variables inherit dependency model from template\n",
    "+ Dynamic Bayesian Networks\n",
    "+ Object-relational models\n",
    "    + Directed\n",
    "        + Plate Models\n",
    "    + Undirected"
   ]
  },
  {
   "cell_type": "markdown",
   "metadata": {},
   "source": [
    "# Temporal Models\n",
    "+ Time granularity\n",
    "+ Markov Assumption\n",
    "    $$ P(X^{0:T}) = P(X^{(0)}) \\prod_{t=0}^{T-1} P(X^{(t+1)}|X^{(0:t)}) $$\n",
    "    If $(X^{(t+1)} \\bot X^{(0:t-1)}|X^{(t)})$\n",
    "    $$ P(X^{0:T}) = P(X^{(0)}) \\prod_{t=0}^{T-1} P(X^{(t+1)}|X^{(t)}) $$\n",
    "\n",
    "+ Semi-Markov Model\n",
    "+ Time Invariance\n",
    "+ Template Transition Model\n",
    "    + Initial State Distribution\n",
    "+ 2-Time-Slice Bayesian Network\n",
    "+ Ground Network"
   ]
  },
  {
   "cell_type": "markdown",
   "metadata": {},
   "source": [
    "# Dynamic Bayesian Networks (DBNS)\n",
    "+ DBNS are a compact representation for encoding structured distributions over arbitrarily long temporal trajectories\n",
    "+ They make assumptions that may require appropriate model (re)design:\n",
    "    + Markov assumption\n",
    "    + Time invariance"
   ]
  },
  {
   "cell_type": "markdown",
   "metadata": {
    "collapsed": true
   },
   "source": [
    "# Hidden Markov Models (HMM)\n",
    "Useful in recognition\n",
    "+ HMMs can be viewed as a subclass of DBNs\n",
    "+ HMMs seem unstructured at the level of random variables\n",
    "+ HMM structure typically manifests in sparsity and repeated elements within the transition matrix\n",
    "+ HMMs are used in a wide variety of applications for modeling sequences"
   ]
  },
  {
   "cell_type": "markdown",
   "metadata": {},
   "source": [
    "# Plate Models\n",
    "+ Nested Plate\n",
    "+ Overlapping Plate\n",
    "+ Explicit Parameter Sharing\n",
    "+ Collective Inference\n",
    "+ Plate Dependency Model\n",
    "+ Ground Network\n",
    "\n",
    "Summary\n",
    "\n",
    "+ Template for an infinite set of BNs, each induced by a different set of domain objects.\n",
    "+ Parameters and structure are reused within a BN and across different BNs\n",
    "+ Models encode correlations across multiple objects, allowing collective inference\n",
    "+ Multiple \"languages\", each with different tradeoffs in expressive power"
   ]
  },
  {
   "cell_type": "markdown",
   "metadata": {},
   "source": [
    "# Structured CPDs\n",
    "+ Determininistic CPDs\n",
    "+ Tree-structured CPDs\n",
    "+ Logistic CPDs & Generalizations\n",
    "+ Noisy OR/AND\n",
    "+ Linear Gaussians & Generalizations\n",
    "\n",
    "## Context-Specific Independence\n",
    "If $P \\models (X \\perp_c Y|Z,c) $, we have:\n",
    "$$ P(X,Y|Z,c) = P(X|Z,c)P(Y|Z,c) $$\n",
    "$$ P(X|Y,Z,c) = P(X|Z,c) $$\n",
    "$$ P(Y|X,Z,c) = P(Y|Z,c) $$\n",
    "\n",
    "When independence happens? X is determined or X and Y are seriously independent (They have no correlation any more).\n",
    "\n",
    "## Tree-structured CPDs\n",
    "+ Multiplexer CPD  \n",
    "$P(Y|A,Z_1,...,Z_k)$, where $A$ is a selector to determine which $Z_i$ will affect\n",
    "\n",
    "Summary\n",
    "+ Compact CPD representation that captures context-specific dependencies\n",
    "+ Relevant in multiple applications:\n",
    "    + Hardware configuration variables\n",
    "    + Medical settings\n",
    "    + Dependence on agent's action\n",
    "    + Perceptual ambiguity"
   ]
  },
  {
   "cell_type": "code",
   "execution_count": null,
   "metadata": {
    "collapsed": true
   },
   "outputs": [],
   "source": []
  }
 ],
 "metadata": {
  "anaconda-cloud": {},
  "kernelspec": {
   "display_name": "Python [Root]",
   "language": "python",
   "name": "Python [Root]"
  },
  "language_info": {
   "codemirror_mode": {
    "name": "ipython",
    "version": 2
   },
   "file_extension": ".py",
   "mimetype": "text/x-python",
   "name": "python",
   "nbconvert_exporter": "python",
   "pygments_lexer": "ipython2",
   "version": "2.7.12"
  }
 },
 "nbformat": 4,
 "nbformat_minor": 0
}
