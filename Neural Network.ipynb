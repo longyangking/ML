{
 "cells": [
  {
   "cell_type": "markdown",
   "metadata": {},
   "source": [
    "# Neural Network\n",
    "\n",
    "+ Cost Function\n",
    "+ Back-propagation\n",
    "+ Optimization Objective\n",
    "+ Function Fit"
   ]
  },
  {
   "cell_type": "markdown",
   "metadata": {},
   "source": [
    "# Cost Function\n",
    "The definition of cost function for Neural Network is:\n",
    "$$ J(\\Theta) = -\\frac{1}{m} \\left[ \\sum_{i=1}^{m} \\sum_{k=1}^{K} y^{(i)}_k log(h_{\\Theta}(x^{(i)}))_k + (1-y^{(i)}_k) log(1-(h_{\\Theta}(x^{(i)}))_k) \\right] + \\frac {\\lambda}{2m} \\sum_{l=1}^{L-1} \\sum_{i=1}^{S_l} \\sum_{j=1}^{S_{l+1}} (\\Theta_{ji}^{(l)})^2 $$\n",
    "\n",
    "where $S_j^{(l)}$ is the \"error\" of node $j$ in layer $l$."
   ]
  },
  {
   "cell_type": "markdown",
   "metadata": {},
   "source": [
    "# Propagation"
   ]
  },
  {
   "cell_type": "markdown",
   "metadata": {},
   "source": [
    "## Forward propagation\n",
    "The process:\n",
    "$$ x_1^{(1)} \\xrightarrow{\\Theta_1} \\{a^{(2)}\\} $$"
   ]
  },
  {
   "cell_type": "markdown",
   "metadata": {},
   "source": [
    "## Back propagation"
   ]
  },
  {
   "cell_type": "markdown",
   "metadata": {},
   "source": [
    "## Gradient Checking"
   ]
  },
  {
   "cell_type": "code",
   "execution_count": null,
   "metadata": {
    "collapsed": true
   },
   "outputs": [],
   "source": []
  }
 ],
 "metadata": {
  "kernelspec": {
   "display_name": "Python 2",
   "language": "python",
   "name": "python2"
  },
  "language_info": {
   "codemirror_mode": {
    "name": "ipython",
    "version": 2
   },
   "file_extension": ".py",
   "mimetype": "text/x-python",
   "name": "python",
   "nbconvert_exporter": "python",
   "pygments_lexer": "ipython2",
   "version": "2.7.10"
  }
 },
 "nbformat": 4,
 "nbformat_minor": 0
}
